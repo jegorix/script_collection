{
 "cells": [
  {
   "cell_type": "markdown",
   "id": "47547ca5",
   "metadata": {},
   "source": [
    "## Dataframe and Series"
   ]
  },
  {
   "cell_type": "markdown",
   "id": "be513200",
   "metadata": {},
   "source": [
    "### Series"
   ]
  },
  {
   "cell_type": "code",
   "execution_count": 36,
   "id": "773dce75",
   "metadata": {},
   "outputs": [
    {
     "name": "stdout",
     "output_type": "stream",
     "text": [
      "row_1      1\n",
      "row_2      2\n",
      "row_3      3\n",
      "row_4      4\n",
      "row_5    5.3\n",
      "Name: pd_Series, dtype: string\n"
     ]
    }
   ],
   "source": [
    "import numpy as np\n",
    "import pandas as pd\n",
    "\n",
    "# Series based on array\n",
    "series_from_list = pd.Series(data=[1, 2, 3, 4, 5.3],\n",
    "                             index=['row_1', 'row_2', 'row_3', 'row_4', 'row_5'],\n",
    "                             dtype='string',\n",
    "                             name='pd_Series'\n",
    "                             )\n",
    "\n",
    "print(series_from_list)\n"
   ]
  },
  {
   "cell_type": "code",
   "execution_count": 13,
   "id": "90121714",
   "metadata": {},
   "outputs": [
    {
     "name": "stdout",
     "output_type": "stream",
     "text": [
      "row_3      4.0\n",
      "row_4      5.0\n",
      "row_100    NaN\n",
      "Name: pd_Series, dtype: float64\n"
     ]
    }
   ],
   "source": [
    "dict_array = {\n",
    "    'row_1': 2,\n",
    "    'row_2': 3,\n",
    "    'row_3': 4,\n",
    "    'row_4': 5,\n",
    "    'row_5': 6\n",
    "}\n",
    "\n",
    "# Series based on dict\n",
    "series_from_dict = pd.Series(dict_array,\n",
    "                             index=['row_3', 'row_4', 'row_100'],\n",
    "                             dtype=int,\n",
    "                             name='pd_Series'\n",
    "                             )\n",
    "print(series_from_dict)\n"
   ]
  },
  {
   "cell_type": "code",
   "execution_count": null,
   "id": "04e81fdc",
   "metadata": {},
   "outputs": [
    {
     "name": "stdout",
     "output_type": "stream",
     "text": [
      "Original:  [  1   2   3 100   5   6   7   8   9  10  11  12  13  14  15  16  17  18\n",
      "  19  20]\n",
      "Copy [ 1  2  3  4  5  6  7  8  9 10 11 12 13 14 15]\n"
     ]
    }
   ],
   "source": [
    "# Copy Series\n",
    "np_array = np.arange(1, 21)\n",
    "series_from_np_array = pd.Series(np_array,\n",
    "                                 copy=False\n",
    "                                 )\n",
    "\n",
    "series_from_np_array.iloc[3] = 100\n",
    "\n",
    "print(\"Original: \", np_array)\n",
    "\n",
    "np_array_2 = np.arange(1, 16)\n",
    "series_from_np_array_2 = pd.Series(np_array_2,\n",
    "                                   copy=True)\n",
    "\n",
    "series_from_np_array_2.iloc[3] = 200\n",
    "\n",
    "print(\"Copy\", np_array_2)\n",
    "\n"
   ]
  },
  {
   "cell_type": "code",
   "execution_count": 19,
   "id": "c14a3670",
   "metadata": {},
   "outputs": [
    {
     "name": "stdout",
     "output_type": "stream",
     "text": [
      "row_2    2\n",
      "row_5    5\n",
      "row_1    1\n",
      "Name: pd_Series_1, dtype: string\n"
     ]
    }
   ],
   "source": [
    "# Series based on other series\n",
    "series_list = pd.Series(data=[1, 2, 3, 4, 5],\n",
    "                        index=['row_1', 'row_2', 'row_3', 'row_4', 'row_5'],\n",
    "                        dtype='string',\n",
    "                        name='pd_Series_1'\n",
    "                        )\n",
    "\n",
    "series_from_series = pd.Series(data=series_list,\n",
    "                               index=['row_2', 'row_5', 'row_1'])\n",
    "\n",
    "print(series_from_series)\n",
    "\n"
   ]
  },
  {
   "cell_type": "markdown",
   "id": "162908bd",
   "metadata": {},
   "source": [
    "### DataFrame"
   ]
  },
  {
   "cell_type": "code",
   "execution_count": 25,
   "id": "0e5f38cb",
   "metadata": {},
   "outputs": [
    {
     "name": "stdout",
     "output_type": "stream",
     "text": [
      "       col3  col4  col1\n",
      "row_1   9.0  13.0   1.0\n",
      "row_2  10.0  14.0   2.0\n",
      "row_3  11.0  15.0   3.0\n",
      "row_4  12.0  16.0   4.0\n"
     ]
    }
   ],
   "source": [
    "dict_array = {\n",
    "    'col1': [1, 2, 3, 4],\n",
    "    'col2': [5, 6, 7, 8],\n",
    "    'col3': [9, 10, 11, 12],\n",
    "    'col4': [13, 14, 15, 16]\n",
    "}\n",
    "# DataFrame based on dict\n",
    "dateframe_from_dict = pd.DataFrame(\n",
    "    data=dict_array,\n",
    "    index=['row_1', 'row_2', 'row_3', 'row_4'],\n",
    "    columns=['col3', 'col4', 'col1'],\n",
    "    dtype=float\n",
    ")\n",
    "\n",
    "print(dateframe_from_dict)"
   ]
  },
  {
   "cell_type": "code",
   "execution_count": 28,
   "id": "b5f95593",
   "metadata": {},
   "outputs": [
    {
     "name": "stdout",
     "output_type": "stream",
     "text": [
      "    0   1    2   3   4\n",
      "0   1   2  100   4   5\n",
      "1   6   7  100   9  10\n",
      "2  11  12  100  14  15\n",
      "3  16  17  100  19  20\n",
      "[[1, 2, 3, 4, 5], [6, 7, 8, 9, 10], [11, 12, 13, 14, 15], [16, 17, 18, 19, 20]]\n"
     ]
    }
   ],
   "source": [
    "# DataFrame based on numpy array WITH COPY PARAM\n",
    "np_array = [\n",
    "    [1, 2, 3, 4, 5],\n",
    "    [6, 7, 8, 9, 10],\n",
    "    [11, 12, 13, 14, 15],\n",
    "    [16, 17, 18, 19, 20]\n",
    "]\n",
    "\n",
    "# DateFrame based on numpy array\n",
    "df_1 = pd.DataFrame(data=np_array,\n",
    "                    copy=True)\n",
    "df_1.iloc[:, 2] = 100\n",
    "\n",
    "print(df_1)\n",
    "print(np_array)"
   ]
  },
  {
   "cell_type": "code",
   "execution_count": 30,
   "id": "4a9799b5",
   "metadata": {},
   "outputs": [
    {
     "name": "stdout",
     "output_type": "stream",
     "text": [
      "       col1  col2\n",
      "row_1   2.0   NaN\n",
      "row_7   NaN   NaN\n"
     ]
    }
   ],
   "source": [
    "dict_array = {\n",
    "    'row_1': 2,\n",
    "    'row_2': 3,\n",
    "    'row_3': 4,\n",
    "    'row_4': 5,\n",
    "    'row_5': 6\n",
    "}\n",
    "\n",
    "array = np.array([1, 2, 3, 4, 5])\n",
    "\n",
    "series_1 = pd.Series(dict_array)\n",
    "series_2 = pd.Series(array, index=['row_3', 'row_4', 'row_5', 'row_6', 'row_9'])\n",
    "\n",
    "df = pd.DataFrame(data={'col1': series_1, 'col2': series_2},\n",
    "                  index=['row_1', 'row_7'])\n",
    "\n",
    "print(df)"
   ]
  },
  {
   "cell_type": "markdown",
   "id": "851b9253",
   "metadata": {},
   "source": [
    "## Read and Write to Files"
   ]
  },
  {
   "cell_type": "code",
   "execution_count": null,
   "id": "acef66b4",
   "metadata": {},
   "outputs": [
    {
     "name": "stdout",
     "output_type": "stream",
     "text": [
      "        user_id            city               category_name    price  \\\n",
      "0  dbe73ad6e4b5       Волгоград      Детская одежда и обувь      NaN   \n",
      "1  2e11806abe57     Нижняя Тура                  Велосипеды   3000.0   \n",
      "2  0b850bbebb10          Бердск               Аудио и видео  15000.0   \n",
      "3  5f1d5c3ce0da         Саратов             Бытовая техника   4500.0   \n",
      "4  23e2d97bfc7f         Бузулук  Товары для детей и игрушки   4900.0   \n",
      "5  c2a632af2602  Ростов-на-Дону      Ремонт и строительство    500.0   \n",
      "6  b239811ad530        Оренбург                    Ноутбуки  20990.0   \n",
      "7  d85fa02e6341     Калининград                    Телефоны    990.0   \n",
      "8  ae6586719bec     Новосибирск       Товары для компьютера   1200.0   \n",
      "9  30ad26d633ef       Полесской      Детская одежда и обувь    400.0   \n",
      "\n",
      "  activation_date user_type  year  month  day  \n",
      "0      2017-04-18   Private  2017      4   18  \n",
      "1      2017-04-16   Private  2017      4   16  \n",
      "2      2017-04-17   Private  2017      4   17  \n",
      "3      2017-04-17   Private  2017      4   17  \n",
      "4      2017-04-15   Private  2017      4   15  \n",
      "5      2017-04-12   Private  2017      4   12  \n",
      "6      2017-04-17      Shop  2017      4   17  \n",
      "7      2017-04-18      Shop  2017      4   18  \n",
      "8      2017-04-18   Company  2017      4   18  \n",
      "9      2017-04-12   Private  2017      4   12  \n",
      "  user_id;city;category_name;price;activation_date;user_type;year;month;day\n",
      "0  dbe73ad6e4b5;Волгоград;Детская одежда и обувь;...                       \n",
      "1  2e11806abe57;Нижняя Тура;Велосипеды;3000.0;201...                       \n",
      "2  0b850bbebb10;Бердск;Аудио и видео;15000.0;2017...                       \n",
      "3  5f1d53ce0da;Саратов;Бытовая техника;4500.0;201...                       \n",
      "4  23e2d97bfc7f;Бузулук;Товары для детей и игрушк...                       \n",
      "5  c2a632af2602;Ростов-на-Дону;Ремонт и строитель...                       \n",
      "6  b239811ad530;Оренбург;Ноутбуки;20990.0;2017-04...                       \n",
      "7  d85fa02e6341;Калининград;Телефоны;990.0;2017-0...                       \n",
      "8  ae6586719bec;Новосибирск;Товары для компьютера...                       \n",
      "9  30ad26d633ef;Полевской;Детская одежда и обувь;...                       \n"
     ]
    }
   ],
   "source": [
    "# With default sep ,\n",
    "df_1 = pd.read_csv('content/avito_data.csv')\n",
    "print(df_1)\n"
   ]
  },
  {
   "cell_type": "code",
   "execution_count": 35,
   "id": "4cc6eac5",
   "metadata": {},
   "outputs": [
    {
     "name": "stdout",
     "output_type": "stream",
     "text": [
      "        user_id            city               category_name    price  \\\n",
      "0  dbe73ad6e4b5       Волгоград      Детская одежда и обувь      NaN   \n",
      "1  2e11806abe57     Нижняя Тура                  Велосипеды   3000.0   \n",
      "2  0b850bbebb10          Бердск               Аудио и видео  15000.0   \n",
      "3   5f1d53ce0da         Саратов             Бытовая техника   4500.0   \n",
      "4  23e2d97bfc7f         Бузулук  Товары для детей и игрушки   4900.0   \n",
      "5  c2a632af2602  Ростов-на-Дону      Ремонт и строительство    500.0   \n",
      "6  b239811ad530        Оренбург                    Ноутбуки  20990.0   \n",
      "7  d85fa02e6341     Калининград                    Телефоны    990.0   \n",
      "8  ae6586719bec     Новосибирск       Товары для компьютера   1200.0   \n",
      "9  30ad26d633ef       Полевской      Детская одежда и обувь    400.0   \n",
      "\n",
      "  activation_date user_type  year  month  day  \n",
      "0      2017-04-18   Private  2017      4   18  \n",
      "1      2017-04-16   Private  2017      4   16  \n",
      "2      2017-04-17   Private  2017      4   17  \n",
      "3      2017-04-17   Private  2017      4   17  \n",
      "4      2017-04-15   Private  2017      4   15  \n",
      "5      2017-04-12   Private  2017      4   12  \n",
      "6      2017-04-17      Shop  2017      4   17  \n",
      "7      2017-04-18      Shop  2017      4   18  \n",
      "8      2017-04-18   Company  2017      4   18  \n",
      "9      2017-04-12   Private  2017      4   12  \n"
     ]
    }
   ],
   "source": [
    "# With sep ;\n",
    "df_2 = pd.read_csv('content/avito_sep.csv',\n",
    "                   sep=';')\n",
    "print(df_2)"
   ]
  },
  {
   "cell_type": "code",
   "execution_count": 41,
   "id": "db1bf7af",
   "metadata": {},
   "outputs": [
    {
     "name": "stdout",
     "output_type": "stream",
     "text": [
      "                               user_id               category_name    price  \\\n",
      "user_type city                                                                \n",
      "Private   Волгоград       dbe73ad6e4b5      Детская одежда и обувь      NaN   \n",
      "          Нижняя Тура     2e11806abe57                  Велосипеды   3000.0   \n",
      "          Бердск          0b850bbebb10               Аудио и видео  15000.0   \n",
      "          Саратов          5f1d53ce0da             Бытовая техника   4500.0   \n",
      "          Бузулук         23e2d97bfc7f  Товары для детей и игрушки   4900.0   \n",
      "          Ростов-на-Дону  c2a632af2602      Ремонт и строительство    500.0   \n",
      "Shop      Оренбург        b239811ad530                    Ноутбуки  20990.0   \n",
      "          Калининград     d85fa02e6341                    Телефоны    990.0   \n",
      "Company   Новосибирск     ae6586719bec       Товары для компьютера   1200.0   \n",
      "Private   Полевской       30ad26d633ef      Детская одежда и обувь    400.0   \n",
      "\n",
      "                         activation_date  year  month  day  \n",
      "user_type city                                              \n",
      "Private   Волгоград           2017-04-18  2017      4   18  \n",
      "          Нижняя Тура         2017-04-16  2017      4   16  \n",
      "          Бердск              2017-04-17  2017      4   17  \n",
      "          Саратов             2017-04-17  2017      4   17  \n",
      "          Бузулук             2017-04-15  2017      4   15  \n",
      "          Ростов-на-Дону      2017-04-12  2017      4   12  \n",
      "Shop      Оренбург            2017-04-17  2017      4   17  \n",
      "          Калининград         2017-04-18  2017      4   18  \n",
      "Company   Новосибирск         2017-04-18  2017      4   18  \n",
      "Private   Полевской           2017-04-12  2017      4   12  \n"
     ]
    }
   ],
   "source": [
    "import pandas as pd\n",
    "\n",
    "df_index_col = pd.read_csv('content/avito_sep.csv',\n",
    "                           sep=';',\n",
    "                           index_col=['user_type', 'city']\n",
    "                           )\n",
    "\n",
    "print(df_index_col)"
   ]
  },
  {
   "cell_type": "code",
   "execution_count": 43,
   "id": "fb1f7a1a",
   "metadata": {},
   "outputs": [
    {
     "name": "stdout",
     "output_type": "stream",
     "text": [
      "                     user_id    price activation_date\n",
      "city                                                 \n",
      "Волгоград       dbe73ad6e4b5      NaN      2017-04-18\n",
      "Нижняя Тура     2e11806abe57   3000.0      2017-04-16\n",
      "Бердск          0b850bbebb10  15000.0      2017-04-17\n",
      "Саратов          5f1d53ce0da   4500.0      2017-04-17\n",
      "Бузулук         23e2d97bfc7f   4900.0      2017-04-15\n",
      "Ростов-на-Дону  c2a632af2602    500.0      2017-04-12\n",
      "Оренбург        b239811ad530  20990.0      2017-04-17\n",
      "Калининград     d85fa02e6341    990.0      2017-04-18\n",
      "Новосибирск     ae6586719bec   1200.0      2017-04-18\n",
      "Полевской       30ad26d633ef    400.0      2017-04-12\n"
     ]
    }
   ],
   "source": [
    "df_usecols = pd.read_csv('content/avito_sep.csv',\n",
    "                         sep=';',\n",
    "                         index_col=['city'],\n",
    "                         usecols=['user_id', 'city', 'price', 'activation_date']\n",
    "                         )\n",
    "\n",
    "print(df_usecols)"
   ]
  },
  {
   "cell_type": "code",
   "execution_count": 46,
   "id": "bcfe87d6",
   "metadata": {},
   "outputs": [
    {
     "name": "stdout",
     "output_type": "stream",
     "text": [
      "             city\n",
      "0       Волгоград\n",
      "1     Нижняя Тура\n",
      "2          Бердск\n",
      "3         Саратов\n",
      "4         Бузулук\n",
      "5  Ростов-на-Дону\n",
      "6        Оренбург\n",
      "7     Калининград\n",
      "8     Новосибирск\n",
      "9       Полевской\n"
     ]
    }
   ],
   "source": [
    "# test argument Squeeze - return Series if only one column is parsed\n",
    "df_squeeze = pd.read_csv('content/avito_sep.csv',\n",
    "                         sep=';',\n",
    "                         usecols=['city'],\n",
    "                         )\n",
    "\n",
    "df_squeeze_city = df_squeeze['city']\n",
    "print(df_squeeze)"
   ]
  },
  {
   "cell_type": "code",
   "execution_count": 49,
   "id": "b212038c",
   "metadata": {},
   "outputs": [
    {
     "name": "stdout",
     "output_type": "stream",
     "text": [
      "<class 'pandas.core.frame.DataFrame'>\n",
      "RangeIndex: 10 entries, 0 to 9\n",
      "Data columns (total 4 columns):\n",
      " #   Column           Non-Null Count  Dtype  \n",
      "---  ------           --------------  -----  \n",
      " 0   user_id          10 non-null     object \n",
      " 1   city             10 non-null     object \n",
      " 2   price            9 non-null      float64\n",
      " 3   activation_date  10 non-null     object \n",
      "dtypes: float64(1), object(3)\n",
      "memory usage: 452.0+ bytes\n",
      "<class 'pandas.core.frame.DataFrame'>\n",
      "RangeIndex: 10 entries, 0 to 9\n",
      "Data columns (total 4 columns):\n",
      " #   Column           Non-Null Count  Dtype   \n",
      "---  ------           --------------  -----   \n",
      " 0   user_id          10 non-null     string  \n",
      " 1   city             10 non-null     category\n",
      " 2   price            9 non-null      float64 \n",
      " 3   activation_date  10 non-null     object  \n",
      "dtypes: category(1), float64(1), object(1), string(1)\n",
      "memory usage: 762.0+ bytes\n"
     ]
    }
   ],
   "source": [
    "df = pd.read_csv('content/avito_sep.csv',\n",
    "                 sep=';',\n",
    "                 usecols=['user_id', 'city', 'price', 'activation_date'],\n",
    "                 )\n",
    "\n",
    "df.info()\n",
    "\n",
    "df1 = pd.read_csv('content/avito_sep.csv',\n",
    "                  sep=';',\n",
    "                  usecols=['user_id', 'city', 'price', 'activation_date'],\n",
    "                  dtype={'city': 'category', 'user_id': 'string'}\n",
    "                  )\n",
    "\n",
    "df1.info()"
   ]
  },
  {
   "cell_type": "code",
   "execution_count": 51,
   "id": "2e010c9e",
   "metadata": {},
   "outputs": [
    {
     "name": "stdout",
     "output_type": "stream",
     "text": [
      "        user_id         city               category_name    price  \\\n",
      "0  dbe73ad6e4b5    Волгоград      Детская одежда и обувь      NaN   \n",
      "1  2e11806abe57  Нижняя Тура                  Велосипеды   3000.0   \n",
      "2  0b850bbebb10       Бердск               Аудио и видео  15000.0   \n",
      "3   5f1d53ce0da      Саратов             Бытовая техника   4500.0   \n",
      "4  23e2d97bfc7f      Бузулук  Товары для детей и игрушки   4900.0   \n",
      "\n",
      "  activation_date user_type  year  month  day  \n",
      "0      2017-04-18   Private  2017      4   18  \n",
      "1      2017-04-16   Private  2017      4   16  \n",
      "2      2017-04-17   Private  2017      4   17  \n",
      "3      2017-04-17   Private  2017      4   17  \n",
      "4      2017-04-15   Private  2017      4   15  \n"
     ]
    }
   ],
   "source": [
    "# Argument n_rows\n",
    "df_nrows = pd.read_csv('content/avito_sep.csv',\n",
    "                       sep=';',\n",
    "                       nrows=5)\n",
    "print(df_nrows)"
   ]
  },
  {
   "cell_type": "code",
   "execution_count": null,
   "id": "ba6dd182",
   "metadata": {},
   "outputs": [
    {
     "name": "stdout",
     "output_type": "stream",
     "text": [
      "<class 'pandas.core.frame.DataFrame'>\n",
      "RangeIndex: 10 entries, 0 to 9\n",
      "Data columns (total 9 columns):\n",
      " #   Column           Non-Null Count  Dtype         \n",
      "---  ------           --------------  -----         \n",
      " 0   user_id          10 non-null     object        \n",
      " 1   city             10 non-null     object        \n",
      " 2   category_name    10 non-null     object        \n",
      " 3   price            9 non-null      object        \n",
      " 4   activation_date  10 non-null     datetime64[ns]\n",
      " 5   user_type        10 non-null     object        \n",
      " 6   year             10 non-null     int64         \n",
      " 7   month            10 non-null     int64         \n",
      " 8   day              10 non-null     int64         \n",
      "dtypes: datetime64[ns](1), int64(3), object(5)\n",
      "memory usage: 852.0+ bytes\n"
     ]
    },
    {
     "name": "stderr",
     "output_type": "stream",
     "text": [
      "/var/folders/ht/tyf5jl1s1zq2068m9z0n2fnr0000gn/T/ipykernel_69371/3519602427.py:1: UserWarning: Could not infer format, so each element will be parsed individually, falling back to `dateutil`. To ensure parsing is consistent and as-expected, please specify a format.\n",
      "  df_parse_dates = pd.read_csv('content/avito_sep.csv',\n",
      "/var/folders/ht/tyf5jl1s1zq2068m9z0n2fnr0000gn/T/ipykernel_69371/3519602427.py:1: UserWarning: Could not infer format, so each element will be parsed individually, falling back to `dateutil`. To ensure parsing is consistent and as-expected, please specify a format.\n",
      "  df_parse_dates = pd.read_csv('content/avito_sep.csv',\n"
     ]
    }
   ],
   "source": [
    "# Arguments parse_dates=...\n",
    "df_parse_dates = pd.read_csv('content/avito_sep.csv',\n",
    "                             sep=';',\n",
    "                             parse_dates=['activation_date', 'price', 'category_name'])\n",
    "\n",
    "df_parse_dates.info()"
   ]
  },
  {
   "cell_type": "code",
   "execution_count": 62,
   "id": "d5712e9e",
   "metadata": {},
   "outputs": [
    {
     "name": "stdout",
     "output_type": "stream",
     "text": [
      "<class 'pandas.core.frame.DataFrame'>\n",
      "RangeIndex: 10 entries, 0 to 9\n",
      "Data columns (total 7 columns):\n",
      " #   Column           Non-Null Count  Dtype         \n",
      "---  ------           --------------  -----         \n",
      " 0   year_month_day   10 non-null     datetime64[ns]\n",
      " 1   user_id          10 non-null     object        \n",
      " 2   city             10 non-null     object        \n",
      " 3   category_name    10 non-null     object        \n",
      " 4   price            9 non-null      float64       \n",
      " 5   activation_date  10 non-null     datetime64[ns]\n",
      " 6   user_type        10 non-null     object        \n",
      "dtypes: datetime64[ns](2), float64(1), object(4)\n",
      "memory usage: 692.0+ bytes\n",
      "None\n",
      "  year_month_day       user_id            city               category_name  \\\n",
      "0     2017-04-18  dbe73ad6e4b5       Волгоград      Детская одежда и обувь   \n",
      "1     2017-04-16  2e11806abe57     Нижняя Тура                  Велосипеды   \n",
      "2     2017-04-17  0b850bbebb10          Бердск               Аудио и видео   \n",
      "3     2017-04-17   5f1d53ce0da         Саратов             Бытовая техника   \n",
      "4     2017-04-15  23e2d97bfc7f         Бузулук  Товары для детей и игрушки   \n",
      "5     2017-04-12  c2a632af2602  Ростов-на-Дону      Ремонт и строительство   \n",
      "6     2017-04-17  b239811ad530        Оренбург                    Ноутбуки   \n",
      "7     2017-04-18  d85fa02e6341     Калининград                    Телефоны   \n",
      "8     2017-04-18  ae6586719bec     Новосибирск       Товары для компьютера   \n",
      "9     2017-04-12  30ad26d633ef       Полевской      Детская одежда и обувь   \n",
      "\n",
      "     price activation_date user_type  \n",
      "0      NaN      2017-04-18   Private  \n",
      "1   3000.0      2017-04-16   Private  \n",
      "2  15000.0      2017-04-17   Private  \n",
      "3   4500.0      2017-04-17   Private  \n",
      "4   4900.0      2017-04-15   Private  \n",
      "5    500.0      2017-04-12   Private  \n",
      "6  20990.0      2017-04-17      Shop  \n",
      "7    990.0      2017-04-18      Shop  \n",
      "8   1200.0      2017-04-18   Company  \n",
      "9    400.0      2017-04-12   Private  \n"
     ]
    },
    {
     "name": "stderr",
     "output_type": "stream",
     "text": [
      "/var/folders/ht/tyf5jl1s1zq2068m9z0n2fnr0000gn/T/ipykernel_69371/264410319.py:1: FutureWarning: Support for nested sequences for 'parse_dates' in pd.read_csv is deprecated. Combine the desired columns with pd.to_datetime after parsing instead.\n",
      "  df_parse_dates = pd.read_csv('content/avito_sep.csv',\n",
      "/var/folders/ht/tyf5jl1s1zq2068m9z0n2fnr0000gn/T/ipykernel_69371/264410319.py:1: UserWarning: Could not infer format, so each element will be parsed individually, falling back to `dateutil`. To ensure parsing is consistent and as-expected, please specify a format.\n",
      "  df_parse_dates = pd.read_csv('content/avito_sep.csv',\n"
     ]
    }
   ],
   "source": [
    "df_parse_dates = pd.read_csv('content/avito_sep.csv',\n",
    "                             sep=';',\n",
    "                            parse_dates=[['year', 'month', 'day'], 'activation_date', 'category_name']\n",
    ")\n",
    "\n",
    "print(df_parse_dates.info())\n",
    "print(df_parse_dates)"
   ]
  },
  {
   "cell_type": "code",
   "execution_count": 66,
   "id": "8f1f08c4",
   "metadata": {},
   "outputs": [
    {
     "name": "stdout",
     "output_type": "stream",
     "text": [
      "<class 'pandas.core.frame.DataFrame'>\n",
      "RangeIndex: 10 entries, 0 to 9\n",
      "Data columns (total 7 columns):\n",
      " #   Column           Non-Null Count  Dtype         \n",
      "---  ------           --------------  -----         \n",
      " 0   year_month_day   10 non-null     datetime64[ns]\n",
      " 1   user_id          10 non-null     object        \n",
      " 2   city             10 non-null     object        \n",
      " 3   category_name    10 non-null     object        \n",
      " 4   price            9 non-null      float64       \n",
      " 5   activation_date  10 non-null     datetime64[ns]\n",
      " 6   user_type        10 non-null     object        \n",
      "dtypes: datetime64[ns](2), float64(1), object(4)\n",
      "memory usage: 692.0+ bytes\n",
      "None\n",
      "       data0      data1       user_id            city  \\\n",
      "0 2017-04-18 2017-04-18  dbe73ad6e4b5       Волгоград   \n",
      "1 2017-04-16 2017-04-16  2e11806abe57     Нижняя Тура   \n",
      "2 2017-04-17 2017-04-17  0b850bbebb10          Бердск   \n",
      "3 2017-04-17 2017-04-17   5f1d53ce0da         Саратов   \n",
      "4 2017-04-15 2017-04-15  23e2d97bfc7f         Бузулук   \n",
      "5 2017-04-12 2017-04-12  c2a632af2602  Ростов-на-Дону   \n",
      "6 2017-04-17 2017-04-17  b239811ad530        Оренбург   \n",
      "7 2017-04-18 2017-04-18  d85fa02e6341     Калининград   \n",
      "8 2017-04-18 2017-04-18  ae6586719bec     Новосибирск   \n",
      "9 2017-04-12 2017-04-12  30ad26d633ef       Полевской   \n",
      "\n",
      "                category_name    price user_type  \n",
      "0      Детская одежда и обувь      NaN   Private  \n",
      "1                  Велосипеды   3000.0   Private  \n",
      "2               Аудио и видео  15000.0   Private  \n",
      "3             Бытовая техника   4500.0   Private  \n",
      "4  Товары для детей и игрушки   4900.0   Private  \n",
      "5      Ремонт и строительство    500.0   Private  \n",
      "6                    Ноутбуки  20990.0      Shop  \n",
      "7                    Телефоны    990.0      Shop  \n",
      "8       Товары для компьютера   1200.0   Company  \n",
      "9      Детская одежда и обувь    400.0   Private  \n"
     ]
    },
    {
     "name": "stderr",
     "output_type": "stream",
     "text": [
      "/var/folders/ht/tyf5jl1s1zq2068m9z0n2fnr0000gn/T/ipykernel_69371/1122905000.py:1: FutureWarning: Support for nested sequences for 'parse_dates' in pd.read_csv is deprecated. Combine the desired columns with pd.to_datetime after parsing instead.\n",
      "  df_parse_dates1 = pd.read_csv('content/avito_sep.csv',\n"
     ]
    }
   ],
   "source": [
    "df_parse_dates1 = pd.read_csv('content/avito_sep.csv',\n",
    "                             sep=';',\n",
    "                            parse_dates={\n",
    "                                'data0': ['activation_date'],\n",
    "                                'data1': ['year', 'month', 'day']\n",
    "                                }\n",
    ")\n",
    "\n",
    "print(df_parse_dates.info())\n",
    "print(df_parse_dates1)"
   ]
  },
  {
   "cell_type": "code",
   "execution_count": 77,
   "id": "372d7dc0",
   "metadata": {},
   "outputs": [
    {
     "name": "stdout",
     "output_type": "stream",
     "text": [
      "       data1       user_id            city               category_name  \\\n",
      "0 2017-04-18  dbe73ad6e4b5       Волгоград      Детская одежда и обувь   \n",
      "1 2017-04-16  2e11806abe57     Нижняя Тура                  Велосипеды   \n",
      "2 2017-04-17  0b850bbebb10          Бердск               Аудио и видео   \n",
      "3 2017-04-17   5f1d53ce0da         Саратов             Бытовая техника   \n",
      "4 2017-04-15  23e2d97bfc7f         Бузулук  Товары для детей и игрушки   \n",
      "5 2017-04-12  c2a632af2602  Ростов-на-Дону      Ремонт и строительство   \n",
      "6 2017-04-17  b239811ad530        Оренбург                    Ноутбуки   \n",
      "7 2017-04-18  d85fa02e6341     Калининград                    Телефоны   \n",
      "8 2017-04-18  ae6586719bec     Новосибирск       Товары для компьютера   \n",
      "9 2017-04-12  30ad26d633ef       Полевской      Детская одежда и обувь   \n",
      "\n",
      "     price activation_date user_type  year month day  \n",
      "0      NaN      2017-04-18   Private  2017     4  18  \n",
      "1   3000.0      2017-04-16   Private  2017     4  16  \n",
      "2  15000.0      2017-04-17   Private  2017     4  17  \n",
      "3   4500.0      2017-04-17   Private  2017     4  17  \n",
      "4   4900.0      2017-04-15   Private  2017     4  15  \n",
      "5    500.0      2017-04-12   Private  2017     4  12  \n",
      "6  20990.0      2017-04-17      Shop  2017     4  17  \n",
      "7    990.0      2017-04-18      Shop  2017     4  18  \n",
      "8   1200.0      2017-04-18   Company  2017     4  18  \n",
      "9    400.0      2017-04-12   Private  2017     4  12  \n"
     ]
    },
    {
     "name": "stderr",
     "output_type": "stream",
     "text": [
      "/var/folders/ht/tyf5jl1s1zq2068m9z0n2fnr0000gn/T/ipykernel_69371/610042448.py:2: FutureWarning: The 'keep_date_col' keyword in pd.read_csv is deprecated and will be removed in a future version. Explicitly remove unwanted columns after parsing instead.\n",
      "  df_parse_dates1 = pd.read_csv('content/avito_sep.csv',\n",
      "/var/folders/ht/tyf5jl1s1zq2068m9z0n2fnr0000gn/T/ipykernel_69371/610042448.py:2: FutureWarning: Support for nested sequences for 'parse_dates' in pd.read_csv is deprecated. Combine the desired columns with pd.to_datetime after parsing instead.\n",
      "  df_parse_dates1 = pd.read_csv('content/avito_sep.csv',\n"
     ]
    }
   ],
   "source": [
    "# Argument keep_date_col and encoding\n",
    "df_parse_dates1 = pd.read_csv('content/avito_sep.csv',\n",
    "                             sep=';',\n",
    "                             keep_date_col=True,\n",
    "                            parse_dates={\n",
    "                                'data1': ['year', 'month', 'day'],\n",
    "                                },\n",
    "                            encoding='utf8'\n",
    ")\n",
    "\n",
    "print(df_parse_dates1)"
   ]
  },
  {
   "cell_type": "markdown",
   "id": "aa4b79cf",
   "metadata": {},
   "source": [
    "### Write to CSV"
   ]
  },
  {
   "cell_type": "code",
   "execution_count": 83,
   "id": "73886df4",
   "metadata": {},
   "outputs": [],
   "source": [
    "df = pd.read_csv('content/avito_data.csv')\n",
    "\n",
    "# Save file\n",
    "df.to_csv('content/avito_copy.csv', sep=';')\n",
    "\n",
    "# Save columns\n",
    "df.to_csv('content/avito_copy.csv',\n",
    "          sep=';',\n",
    "          columns=['city', 'price']\n",
    "          )\n",
    "\n",
    "# Argument header\n",
    "df.to_csv('content/avito_copy.csv',\n",
    "          sep=';',\n",
    "          columns=['city', 'price'],\n",
    "          header=['city_copy', 'price_copy']\n",
    "          )\n",
    "\n",
    "#Argument index\n",
    "df.to_csv('content/avito_copy.csv',\n",
    "          sep=';',\n",
    "          index=True\n",
    "          )"
   ]
  }
 ],
 "metadata": {
  "kernelspec": {
   "display_name": "Python 3",
   "language": "python",
   "name": "python3"
  },
  "language_info": {
   "codemirror_mode": {
    "name": "ipython",
    "version": 3
   },
   "file_extension": ".py",
   "mimetype": "text/x-python",
   "name": "python",
   "nbconvert_exporter": "python",
   "pygments_lexer": "ipython3",
   "version": "3.12.4"
  }
 },
 "nbformat": 4,
 "nbformat_minor": 5
}
