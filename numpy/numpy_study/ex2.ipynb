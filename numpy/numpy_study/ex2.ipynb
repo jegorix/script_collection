{
 "cells": [
  {
   "cell_type": "markdown",
   "id": "41ab52b8",
   "metadata": {},
   "source": [
    "## NumPy Basics"
   ]
  },
  {
   "cell_type": "code",
   "execution_count": 18,
   "id": "f0cf3e09",
   "metadata": {},
   "outputs": [
    {
     "name": "stdout",
     "output_type": "stream",
     "text": [
      "\n",
      "      array shape: (5,),\n",
      "      array size: 5,\n",
      "      array dimension: 1,\n",
      "      array type: int64,\n",
      "      array: [10 20 30 40 50]\n",
      "      \n",
      "\n",
      "      array shape: (3, 4),\n",
      "      array size: 12,\n",
      "      array dimension: 2,\n",
      "      array type: float64,\n",
      "      array: [[0. 0. 0. 0.]\n",
      " [0. 0. 0. 0.]\n",
      " [0. 0. 0. 0.]]\n",
      "      \n",
      "\n",
      "      array shape: (2, 2),\n",
      "      array size: 4,\n",
      "      array dimension: 2,\n",
      "      array type: float64,\n",
      "      array: [[1. 1.]\n",
      " [1. 1.]]\n",
      "      \n",
      "\n",
      "      array shape: (4,),\n",
      "      array size: 4,\n",
      "      array dimension: 1,\n",
      "      array type: int64,\n",
      "      array: [ 5 10 15 20]\n",
      "      \n",
      "\n",
      "      array shape: (7,),\n",
      "      array size: 7,\n",
      "      array dimension: 1,\n",
      "      array type: float64,\n",
      "      array: [0.         0.16666667 0.33333333 0.5        0.66666667 0.83333333\n",
      " 1.        ]\n",
      "      \n"
     ]
    }
   ],
   "source": [
    "import numpy as np \n",
    "import json\n",
    "\n",
    "array = np.array([10, 20, 30, 40, 50])\n",
    "\n",
    "print(f\"\"\"\n",
    "      array shape: {array.shape},\n",
    "      array size: {array.size},\n",
    "      array dimension: {array.ndim},\n",
    "      array type: {array.dtype},\n",
    "      array: {array}\n",
    "      \"\"\")\n",
    "\n",
    "\n",
    "zero_array = np.zeros((3, 4))\n",
    "print(f\"\"\"\n",
    "      array shape: {zero_array.shape},\n",
    "      array size: {zero_array.size},\n",
    "      array dimension: {zero_array.ndim},\n",
    "      array type: {zero_array.dtype},\n",
    "      array: {zero_array}\n",
    "      \"\"\")\n",
    "\n",
    "one_array = np.ones((2, 2))\n",
    "print(f\"\"\"\n",
    "      array shape: {one_array.shape},\n",
    "      array size: {one_array.size},\n",
    "      array dimension: {one_array.ndim},\n",
    "      array type: {one_array.dtype},\n",
    "      array: {one_array}\n",
    "      \"\"\")\n",
    "\n",
    "number_massive = np.arange(5, 25, 5)\n",
    "print(f\"\"\"\n",
    "      array shape: {number_massive.shape},\n",
    "      array size: {number_massive.size},\n",
    "      array dimension: {number_massive.ndim},\n",
    "      array type: {number_massive.dtype},\n",
    "      array: {number_massive}\n",
    "      \"\"\")\n",
    "\n",
    "equable_array = np.linspace(0, 1, 7)\n",
    "print(f\"\"\"\n",
    "      array shape: {equable_array.shape},\n",
    "      array size: {equable_array.size},\n",
    "      array dimension: {equable_array.ndim},\n",
    "      array type: {equable_array.dtype},\n",
    "      array: {equable_array}\n",
    "      \"\"\")\n",
    "\n"
   ]
  },
  {
   "cell_type": "markdown",
   "id": "e703ab47",
   "metadata": {},
   "source": [
    "## Indexing and slicing in NumPy."
   ]
  },
  {
   "cell_type": "code",
   "execution_count": null,
   "id": "db4b1d89",
   "metadata": {},
   "outputs": [
    {
     "name": "stdout",
     "output_type": "stream",
     "text": [
      "{'each_second_elem': array([ 5, 15, 25, 35]),\n",
      " 'first_elememt': np.int64(5),\n",
      " 'last_element': np.int64(35),\n",
      " 'slice_from_2_to_5': array([15, 20, 25, 30])}\n"
     ]
    }
   ],
   "source": [
    "from pprint import pprint\n",
    "array = np.array([5, 10, 15, 20, 25, 30, 35])\n",
    "response1 = {\n",
    "    'first_elememt': array[0],\n",
    "    'last_element': array[-1],\n",
    "    'slice_from_2_to_5': array[2:6],\n",
    "    'each_second_elem': array[::2]\n",
    "}\n",
    "pprint(response1)"
   ]
  },
  {
   "cell_type": "code",
   "execution_count": 33,
   "id": "88128656",
   "metadata": {},
   "outputs": [
    {
     "name": "stdout",
     "output_type": "stream",
     "text": [
      "{'2:3': np.int64(7),\n",
      " 'col_1': array([1, 5, 9]),\n",
      " 'col_[3,4]': array([[ 3,  4],\n",
      "       [ 7,  8],\n",
      "       [11, 12]]),\n",
      " 'sub_matrix': array([[1, 2, 3],\n",
      "       [5, 6, 7]])}\n"
     ]
    }
   ],
   "source": [
    "mat = np.array([\n",
    "    [1, 2, 3, 4],\n",
    "    [5, 6, 7, 8],\n",
    "    [9, 10, 11, 12]\n",
    "])\n",
    "\n",
    "response2 = {\n",
    "    '2:3': mat[1, 2],\n",
    "    'col_1': mat[0:, 0],\n",
    "    'col_[3,4]': mat[0:, 2:4],\n",
    "    'sub_matrix': mat[0:2, 0:3]\n",
    "}\n",
    "\n",
    "pprint(response2)"
   ]
  },
  {
   "cell_type": "markdown",
   "id": "740357ac",
   "metadata": {},
   "source": [
    "## Changing the shape of arrays in NumPy."
   ]
  },
  {
   "cell_type": "code",
   "execution_count": 38,
   "id": "c30d7839",
   "metadata": {},
   "outputs": [
    {
     "name": "stdout",
     "output_type": "stream",
     "text": [
      "{   'array': array([99,  2,  3,  4,  5,  6,  7,  8,  9, 10, 11, 12, 13, 14, 15, 16]),\n",
      "    'flatten array(copy)': array([99,  2,  3,  4,  5,  6,  7,  8,  9, 10, 11, 12, 13, 14, 15, 16]),\n",
      "    'origin array': array([99,  2,  3,  4,  5,  6,  7,  8,  9, 10, 11, 12, 13, 14, 15, 16]),\n",
      "    'ravel array(origin)': array([99,  2,  3,  4,  5,  6,  7,  8,  9, 10, 11, 12, 13, 14, 15, 16]),\n",
      "    'reshaped array': array([[99,  2,  3,  4],\n",
      "       [ 5,  6,  7,  8],\n",
      "       [ 9, 10, 11, 12],\n",
      "       [13, 14, 15, 16]])}\n"
     ]
    }
   ],
   "source": [
    "array = np.arange(1, 17)\n",
    "new_array = array.reshape(4, 4)\n",
    "\n",
    "flatten_array = array.flatten()\n",
    "\n",
    "ravel_array = array.ravel()\n",
    "\n",
    "ravel_array[0] = 99\n",
    "\n",
    "response3 = {\n",
    "    'array': array,\n",
    "    'reshaped array': new_array,\n",
    "    'flatten array(copy)': array,\n",
    "    'ravel array(origin)': ravel_array,\n",
    "    'origin array': array\n",
    "}\n",
    "\n",
    "pprint(response3, indent=4)\n"
   ]
  },
  {
   "cell_type": "markdown",
   "id": "47c3e93e",
   "metadata": {},
   "source": [
    "## Basic array operations and universal functions (ufuncs) in NumPy"
   ]
  },
  {
   "cell_type": "code",
   "execution_count": 62,
   "id": "5d81a6b9",
   "metadata": {},
   "outputs": [
    {
     "name": "stdout",
     "output_type": "stream",
     "text": [
      "{   'sum': array([6, 6, 6, 6, 6]),\n",
      "    'sub': array([-4, -2,  0,  2,  4]),\n",
      "    'multy': array([5, 8, 9, 8, 5]),\n",
      "    'diff': array([0.2, 0.5, 1. , 2. , 5. ]),\n",
      "    'sqrt': array([1.        , 1.41421356, 1.73205081, 2.        , 2.23606798]),\n",
      "    'log': array([0.        , 0.69314718, 1.09861229, 1.38629436, 1.60943791]),\n",
      "    'exp': array([  2.71828183,   7.3890561 ,  20.08553692,  54.59815003,\n",
      "       148.4131591 ]),\n",
      "    'sin': array([ 0.84147098,  0.90929743,  0.14112001, -0.7568025 , -0.95892427])}\n",
      "\n",
      "{   'cols sum': array([5, 7, 9]),\n",
      "    'rows sum': array([ 6, 15]),\n",
      "    'max': np.int64(6),\n",
      "    'min': np.int64(1),\n",
      "    'avg': np.float64(3.5),\n",
      "    'std': np.float64(1.707825127659933)}\n"
     ]
    }
   ],
   "source": [
    "a = np.array([1, 2, 3, 4, 5])\n",
    "\n",
    "b  = np.array([5, 4, 3, 2, 1])\n",
    "\n",
    "response4 = {\n",
    "    'sum': a + b,\n",
    "    'sub': a - b,\n",
    "    'multy': a * b,\n",
    "    'diff': a / b,\n",
    "    'sqrt': np.sqrt(a),\n",
    "    'log': np.log(a),\n",
    "    'exp': np.exp(a),\n",
    "    'sin': np.sin(a),\n",
    "}\n",
    "\n",
    "\n",
    "mat = np.array([[1, 2, 3],\n",
    "              [4, 5, 6]])\n",
    "\n",
    "response5 = {\n",
    "    'cols sum': mat.sum(axis=0),\n",
    "    'rows sum': mat.sum(axis=1),\n",
    "    'max': mat.max(),\n",
    "    'min': mat.min(),\n",
    "    'avg': mat.mean(),\n",
    "    'std': mat.std()\n",
    "}\n",
    "\n",
    "pprint(response4, indent=4, sort_dicts=False)\n",
    "print()\n",
    "pprint(response5, indent=4, sort_dicts=False)\n"
   ]
  }
 ],
 "metadata": {
  "kernelspec": {
   "display_name": "Python 3",
   "language": "python",
   "name": "python3"
  },
  "language_info": {
   "codemirror_mode": {
    "name": "ipython",
    "version": 3
   },
   "file_extension": ".py",
   "mimetype": "text/x-python",
   "name": "python",
   "nbconvert_exporter": "python",
   "pygments_lexer": "ipython3",
   "version": "3.12.4"
  }
 },
 "nbformat": 4,
 "nbformat_minor": 5
}
