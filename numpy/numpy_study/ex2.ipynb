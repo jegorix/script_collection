{
 "cells": [
  {
   "cell_type": "markdown",
   "id": "41ab52b8",
   "metadata": {},
   "source": [
    "## NumPy Basics"
   ]
  },
  {
   "cell_type": "code",
   "execution_count": 18,
   "id": "f0cf3e09",
   "metadata": {},
   "outputs": [
    {
     "name": "stdout",
     "output_type": "stream",
     "text": [
      "\n",
      "      array shape: (5,),\n",
      "      array size: 5,\n",
      "      array dimension: 1,\n",
      "      array type: int64,\n",
      "      array: [10 20 30 40 50]\n",
      "      \n",
      "\n",
      "      array shape: (3, 4),\n",
      "      array size: 12,\n",
      "      array dimension: 2,\n",
      "      array type: float64,\n",
      "      array: [[0. 0. 0. 0.]\n",
      " [0. 0. 0. 0.]\n",
      " [0. 0. 0. 0.]]\n",
      "      \n",
      "\n",
      "      array shape: (2, 2),\n",
      "      array size: 4,\n",
      "      array dimension: 2,\n",
      "      array type: float64,\n",
      "      array: [[1. 1.]\n",
      " [1. 1.]]\n",
      "      \n",
      "\n",
      "      array shape: (4,),\n",
      "      array size: 4,\n",
      "      array dimension: 1,\n",
      "      array type: int64,\n",
      "      array: [ 5 10 15 20]\n",
      "      \n",
      "\n",
      "      array shape: (7,),\n",
      "      array size: 7,\n",
      "      array dimension: 1,\n",
      "      array type: float64,\n",
      "      array: [0.         0.16666667 0.33333333 0.5        0.66666667 0.83333333\n",
      " 1.        ]\n",
      "      \n"
     ]
    }
   ],
   "source": [
    "import numpy as np \n",
    "import json\n",
    "\n",
    "array = np.array([10, 20, 30, 40, 50])\n",
    "\n",
    "print(f\"\"\"\n",
    "      array shape: {array.shape},\n",
    "      array size: {array.size},\n",
    "      array dimension: {array.ndim},\n",
    "      array type: {array.dtype},\n",
    "      array: {array}\n",
    "      \"\"\")\n",
    "\n",
    "\n",
    "zero_array = np.zeros((3, 4))\n",
    "print(f\"\"\"\n",
    "      array shape: {zero_array.shape},\n",
    "      array size: {zero_array.size},\n",
    "      array dimension: {zero_array.ndim},\n",
    "      array type: {zero_array.dtype},\n",
    "      array: {zero_array}\n",
    "      \"\"\")\n",
    "\n",
    "one_array = np.ones((2, 2))\n",
    "print(f\"\"\"\n",
    "      array shape: {one_array.shape},\n",
    "      array size: {one_array.size},\n",
    "      array dimension: {one_array.ndim},\n",
    "      array type: {one_array.dtype},\n",
    "      array: {one_array}\n",
    "      \"\"\")\n",
    "\n",
    "number_massive = np.arange(5, 25, 5)\n",
    "print(f\"\"\"\n",
    "      array shape: {number_massive.shape},\n",
    "      array size: {number_massive.size},\n",
    "      array dimension: {number_massive.ndim},\n",
    "      array type: {number_massive.dtype},\n",
    "      array: {number_massive}\n",
    "      \"\"\")\n",
    "\n",
    "equable_array = np.linspace(0, 1, 7)\n",
    "print(f\"\"\"\n",
    "      array shape: {equable_array.shape},\n",
    "      array size: {equable_array.size},\n",
    "      array dimension: {equable_array.ndim},\n",
    "      array type: {equable_array.dtype},\n",
    "      array: {equable_array}\n",
    "      \"\"\")\n",
    "\n"
   ]
  },
  {
   "cell_type": "markdown",
   "id": "e703ab47",
   "metadata": {},
   "source": [
    "## Indexing and slicing in NumPy."
   ]
  },
  {
   "cell_type": "code",
   "execution_count": null,
   "id": "db4b1d89",
   "metadata": {},
   "outputs": [
    {
     "name": "stdout",
     "output_type": "stream",
     "text": [
      "{'each_second_elem': array([ 5, 15, 25, 35]),\n",
      " 'first_elememt': np.int64(5),\n",
      " 'last_element': np.int64(35),\n",
      " 'slice_from_2_to_5': array([15, 20, 25, 30])}\n"
     ]
    }
   ],
   "source": [
    "from pprint import pprint\n",
    "array = np.array([5, 10, 15, 20, 25, 30, 35])\n",
    "response1 = {\n",
    "    'first_elememt': array[0],\n",
    "    'last_element': array[-1],\n",
    "    'slice_from_2_to_5': array[2:6],\n",
    "    'each_second_elem': array[::2]\n",
    "}\n",
    "pprint(response1)"
   ]
  },
  {
   "cell_type": "code",
   "execution_count": 33,
   "id": "88128656",
   "metadata": {},
   "outputs": [
    {
     "name": "stdout",
     "output_type": "stream",
     "text": [
      "{'2:3': np.int64(7),\n",
      " 'col_1': array([1, 5, 9]),\n",
      " 'col_[3,4]': array([[ 3,  4],\n",
      "       [ 7,  8],\n",
      "       [11, 12]]),\n",
      " 'sub_matrix': array([[1, 2, 3],\n",
      "       [5, 6, 7]])}\n"
     ]
    }
   ],
   "source": [
    "mat = np.array([\n",
    "    [1, 2, 3, 4],\n",
    "    [5, 6, 7, 8],\n",
    "    [9, 10, 11, 12]\n",
    "])\n",
    "\n",
    "response2 = {\n",
    "    '2:3': mat[1, 2],\n",
    "    'col_1': mat[0:, 0],\n",
    "    'col_[3,4]': mat[0:, 2:4],\n",
    "    'sub_matrix': mat[0:2, 0:3]\n",
    "}\n",
    "\n",
    "pprint(response2)"
   ]
  },
  {
   "cell_type": "markdown",
   "id": "740357ac",
   "metadata": {},
   "source": [
    "## Changing the shape of arrays in NumPy."
   ]
  },
  {
   "cell_type": "code",
   "execution_count": 38,
   "id": "c30d7839",
   "metadata": {},
   "outputs": [
    {
     "name": "stdout",
     "output_type": "stream",
     "text": [
      "{   'array': array([99,  2,  3,  4,  5,  6,  7,  8,  9, 10, 11, 12, 13, 14, 15, 16]),\n",
      "    'flatten array(copy)': array([99,  2,  3,  4,  5,  6,  7,  8,  9, 10, 11, 12, 13, 14, 15, 16]),\n",
      "    'origin array': array([99,  2,  3,  4,  5,  6,  7,  8,  9, 10, 11, 12, 13, 14, 15, 16]),\n",
      "    'ravel array(origin)': array([99,  2,  3,  4,  5,  6,  7,  8,  9, 10, 11, 12, 13, 14, 15, 16]),\n",
      "    'reshaped array': array([[99,  2,  3,  4],\n",
      "       [ 5,  6,  7,  8],\n",
      "       [ 9, 10, 11, 12],\n",
      "       [13, 14, 15, 16]])}\n"
     ]
    }
   ],
   "source": [
    "array = np.arange(1, 17)\n",
    "new_array = array.reshape(4, 4)\n",
    "\n",
    "flatten_array = array.flatten()\n",
    "\n",
    "ravel_array = array.ravel()\n",
    "\n",
    "ravel_array[0] = 99\n",
    "\n",
    "response3 = {\n",
    "    'array': array,\n",
    "    'reshaped array': new_array,\n",
    "    'flatten array(copy)': array,\n",
    "    'ravel array(origin)': ravel_array,\n",
    "    'origin array': array\n",
    "}\n",
    "\n",
    "pprint(response3, indent=4)\n"
   ]
  },
  {
   "cell_type": "markdown",
   "id": "47c3e93e",
   "metadata": {},
   "source": [
    "## Basic array operations and universal functions (ufuncs) in NumPy"
   ]
  },
  {
   "cell_type": "code",
   "execution_count": 62,
   "id": "5d81a6b9",
   "metadata": {},
   "outputs": [
    {
     "name": "stdout",
     "output_type": "stream",
     "text": [
      "{   'sum': array([6, 6, 6, 6, 6]),\n",
      "    'sub': array([-4, -2,  0,  2,  4]),\n",
      "    'multy': array([5, 8, 9, 8, 5]),\n",
      "    'diff': array([0.2, 0.5, 1. , 2. , 5. ]),\n",
      "    'sqrt': array([1.        , 1.41421356, 1.73205081, 2.        , 2.23606798]),\n",
      "    'log': array([0.        , 0.69314718, 1.09861229, 1.38629436, 1.60943791]),\n",
      "    'exp': array([  2.71828183,   7.3890561 ,  20.08553692,  54.59815003,\n",
      "       148.4131591 ]),\n",
      "    'sin': array([ 0.84147098,  0.90929743,  0.14112001, -0.7568025 , -0.95892427])}\n",
      "\n",
      "{   'cols sum': array([5, 7, 9]),\n",
      "    'rows sum': array([ 6, 15]),\n",
      "    'max': np.int64(6),\n",
      "    'min': np.int64(1),\n",
      "    'avg': np.float64(3.5),\n",
      "    'std': np.float64(1.707825127659933)}\n"
     ]
    }
   ],
   "source": [
    "a = np.array([1, 2, 3, 4, 5])\n",
    "\n",
    "b  = np.array([5, 4, 3, 2, 1])\n",
    "\n",
    "response4 = {\n",
    "    'sum': a + b,\n",
    "    'sub': a - b,\n",
    "    'multy': a * b,\n",
    "    'diff': a / b,\n",
    "    'sqrt': np.sqrt(a),\n",
    "    'log': np.log(a),\n",
    "    'exp': np.exp(a),\n",
    "    'sin': np.sin(a),\n",
    "}\n",
    "\n",
    "\n",
    "mat = np.array([[1, 2, 3],\n",
    "              [4, 5, 6]])\n",
    "\n",
    "response5 = {\n",
    "    'cols sum': mat.sum(axis=0),\n",
    "    'rows sum': mat.sum(axis=1),\n",
    "    'max': mat.max(),\n",
    "    'min': mat.min(),\n",
    "    'avg': mat.mean(),\n",
    "    'std': mat.std()\n",
    "}\n",
    "\n",
    "pprint(response4, indent=4, sort_dicts=False)\n",
    "print()\n",
    "pprint(response5, indent=4, sort_dicts=False)\n"
   ]
  },
  {
   "cell_type": "markdown",
   "id": "0a301060",
   "metadata": {},
   "source": [
    "## Masks, conditions, and array filtering in NumPy."
   ]
  },
  {
   "cell_type": "code",
   "execution_count": 72,
   "id": "a212cae2",
   "metadata": {},
   "outputs": [
    {
     "name": "stdout",
     "output_type": "stream",
     "text": [
      "{'mask_15': array([20, 25, 30]),\n",
      "'mask_[10, 25]': array([15, 20]),\n",
      "'index_gt_20': (array([4, 5]),)}\n",
      "{'elem_gt_4': array([5, 6, 7, 8, 9]),\n",
      "'elem_index_3': (array([0, 1, 2]), array([2, 2, 2])),\n",
      "'replace_elements': array([[0, 0, 0],\n",
      "       [0, 5, 6],\n",
      "       [7, 8, 9]])}\n"
     ]
    }
   ],
   "source": [
    "arr = np.array([1, 2, 3, 4, 5])\n",
    "mask = arr > 3 # filter elements in arr\n",
    "\n",
    "arr = np.array([5, 10, 15, 20, 25, 30])\n",
    "\n",
    "response6 = {\n",
    "    'mask_15': arr[arr > 15],\n",
    "    'mask_[10, 25]': arr[(arr > 10) & (arr < 25)],\n",
    "    'index_gt_20': np.where(arr > 20),\n",
    "}\n",
    "\n",
    "mat = np.array([[1, 2, 3],\n",
    "                [4, 5, 6],\n",
    "                [7, 8, 9]])\n",
    "\n",
    "mat1 = mat.copy()\n",
    "\n",
    "mat1[mat1 < 5] = 0\n",
    "\n",
    "response7 = {\n",
    "    'elem_gt_4': mat[mat > 4],\n",
    "    'elem_index_3': np.where(mat % 3 == 0),\n",
    "    'replace_elements': mat1,\n",
    "}\n",
    "\n",
    "pprint(response6, indent=False, sort_dicts=False)\n",
    "pprint(response7, indent=False, sort_dicts=False)\n",
    "\n"
   ]
  },
  {
   "cell_type": "markdown",
   "id": "5c42c052",
   "metadata": {},
   "source": [
    "## Broadcasting in NumPy"
   ]
  },
  {
   "cell_type": "code",
   "execution_count": 78,
   "id": "e36c07c2",
   "metadata": {},
   "outputs": [
    {
     "name": "stdout",
     "output_type": "stream",
     "text": [
      "{   'maxtrix + vector': array([[11, 22, 33],\n",
      "       [14, 25, 36]]),\n",
      "    'extends two arrays': array([[11, 21, 31],\n",
      "       [12, 22, 32],\n",
      "       [13, 23, 33]]),\n",
      "    'broadcasting with numbers': array([6, 7, 8])}\n"
     ]
    }
   ],
   "source": [
    "mat = np.array([[1,2,3],\n",
    "                [4,5,6]])\n",
    "vec = np.array([10, 20, 30])\n",
    "\n",
    "a = np.array([[1], [2], [3]])\n",
    "b = np.array([10, 20, 30])\n",
    "\n",
    "c = np.array([1, 2, 3])\n",
    "\n",
    "response8 = {\n",
    "    'maxtrix + vector': mat + vec,\n",
    "    'extends two arrays': a + b,\n",
    "    'broadcasting with numbers': c + 5,\n",
    "}\n",
    "\n",
    "pprint(response8, indent=4, sort_dicts=False)"
   ]
  },
  {
   "cell_type": "markdown",
   "id": "92fdfec3",
   "metadata": {},
   "source": [
    "## NumPy Random"
   ]
  },
  {
   "cell_type": "code",
   "execution_count": 84,
   "id": "93ccf11e",
   "metadata": {},
   "outputs": [
    {
     "name": "stdout",
     "output_type": "stream",
     "text": [
      "{   'random array': array([[42, 75, 67],\n",
      "       [94, 24, 78],\n",
      "       [74, 67, 98]]),\n",
      "    'choices array': array([ 7, 17, 18, 17])}\n"
     ]
    }
   ],
   "source": [
    "array = np.random.randint(1, 100, size=(3,3))\n",
    "\n",
    "array2 = np.arange(1, 21)\n",
    "array_choices = np.random.choice(array2, size=4, replace=True)\n",
    "\n",
    "\n",
    "response9 = {\n",
    "    'random array': array,\n",
    "    'choices array': array_choices\n",
    "}\n",
    "\n",
    "pprint(response9, indent=4, sort_dicts=False)\n"
   ]
  },
  {
   "cell_type": "markdown",
   "id": "4a89f914",
   "metadata": {},
   "source": [
    "## Matrices and Linear algebra in NumPy"
   ]
  },
  {
   "cell_type": "code",
   "execution_count": 106,
   "id": "47baec1b",
   "metadata": {},
   "outputs": [
    {
     "name": "stdout",
     "output_type": "stream",
     "text": [
      "{   'LinAlg norm': 5,\n",
      "    'Det': -2,\n",
      "    'Det≠0_B': 'Вырожденная',\n",
      "    'Det≠0_C': 'НЕвырожденная',\n",
      "    'system': array([2.8, 1.8]),\n",
      "    'eig_val and vectors': (   array([3., 2.]),\n",
      "                               array([[0.89442719, 0.70710678],\n",
      "       [0.4472136 , 0.70710678]])),\n",
      "    'Inverse matrix': array([[ 4., -1.],\n",
      "       [-7.,  2.]]),\n",
      "    'Mult matrix': array([[14, 32],\n",
      "       [32, 77]]),\n",
      "    'Grama matrix': array([[ 5393,  3994,  3362],\n",
      "       [ 3994,  3750,  5104],\n",
      "       [ 3362,  5104, 10772]]),\n",
      "    'Check ortogonal': 'Ортогональная',\n",
      "    'SVD': True}\n",
      "\n",
      "{   'matrix': array([[4, 6, 4, 6],\n",
      "       [9, 1, 9, 2],\n",
      "       [8, 8, 9, 3],\n",
      "       [9, 1, 9, 5]]),\n",
      "    'inverse matrix': array([[ 1.26      ,  2.25333333, -1.        , -1.81333333],\n",
      "       [ 0.18      ,  0.22666667,  0.        , -0.30666667],\n",
      "       [-1.28      , -2.09333333,  1.        ,  1.77333333],\n",
      "       [ 0.        , -0.33333333,  0.        ,  0.33333333]]),\n",
      "    'det': np.float64(-150.00000000000009),\n",
      "    'rank': np.int64(4)}\n"
     ]
    }
   ],
   "source": [
    "# Евклидова норма\n",
    "v = [3, 4]\n",
    "A = np.array([\n",
    "    [1, 2], \n",
    "    [3, 4]\n",
    "])\n",
    "\n",
    "B = np.array([\n",
    "    [1, 2], \n",
    "    [2, 4]\n",
    "])\n",
    "\n",
    "C = np.array([\n",
    "    [2, 3], \n",
    "    [1, 4]\n",
    "])\n",
    "\n",
    "# System of linear equations\n",
    "D = np.array([[3, 2], [1, -1]])\n",
    "b = np.array([12, 1])\n",
    "\n",
    "# Eigenvalues ​​and Eigenvectors\n",
    "A1 = np.array([[4, -2],\n",
    "              [1,  1]])\n",
    "\n",
    "values, vectors = np.linalg.eig(A1)\n",
    "\n",
    "# Inverse matrix\n",
    "B1 = np.array([[2, 1], [7, 4]])\n",
    "\n",
    "# Mult matrix\n",
    "C1 = np.array([[1,2,3], [4,5,6]])\n",
    "\n",
    "# Grama matrix\n",
    "G = np.random.randint(1, 100, size=(3,3))\n",
    "\n",
    "O = np.array([[0, -1],\n",
    " [1,  0]])\n",
    "\n",
    "# SVD\n",
    "N = np.array([[3, 1],\n",
    "              [1, 3]])\n",
    "\n",
    "U, S, Vt = np.linalg.svd(N)\n",
    "\n",
    "# Calculate \n",
    "matr = np.random.randint(1, 10, size=(4,4))\n",
    "\n",
    "\n",
    "\n",
    "\n",
    "response10 = {\n",
    "    'LinAlg norm': int(np.linalg.norm(v)),\n",
    "    'Det': int(np.linalg.det(A)),\n",
    "    'Det≠0_B': 'НЕвырожденная' if np.linalg.det(B) != 0 else 'Вырожденная',\n",
    "    'Det≠0_C': 'НЕвырожденная' if np.linalg.det(C) != 0 else 'Вырожденная',\n",
    "    'system': np.linalg.solve(D, b),\n",
    "    'eig_val and vectors': (values, vectors),\n",
    "    'Inverse matrix': np.linalg.inv(B1),\n",
    "    'Mult matrix': C1 @ C1.T, \n",
    "    'Grama matrix': G.T @ G,\n",
    "    'Check ortogonal': 'Ортогональная' if np.allclose(O.T @ O, np.eye(2)) else 'Не оргонональная',\n",
    "    'SVD': True if np.allclose(U @ np.diag(S) @ Vt, N) else False\n",
    "    \n",
    "}\n",
    "\n",
    "matrix_result = {\n",
    "    'matrix': matr,\n",
    "    'inverse matrix': np.linalg.inv(matr),\n",
    "    'det': np.linalg.det(matr),\n",
    "    'rank': np.linalg.matrix_rank(matr)\n",
    "}\n",
    "\n",
    "pprint(response10, indent=4, sort_dicts=False)\n",
    "print()\n",
    "pprint(matrix_result, indent=4, sort_dicts=False)\n"
   ]
  },
  {
   "cell_type": "code",
   "execution_count": 110,
   "id": "f9e979d2",
   "metadata": {},
   "outputs": [
    {
     "name": "stdout",
     "output_type": "stream",
     "text": [
      "{'dependence': 'InDepend'}\n"
     ]
    }
   ],
   "source": [
    "def check_linear_dependence_rows(mat):\n",
    "    \"\"\"\n",
    "    Проверяет линейную зависимость строк матрицы.\n",
    "\n",
    "    Параметр:\n",
    "        mat (np.ndarray): матрица размером m x n\n",
    "\n",
    "    Возвращает:\n",
    "        True, если строки линейно зависимы\n",
    "        False, если строки линейно независимы\n",
    "    \"\"\"\n",
    "    rank = np.linalg.matrix_rank(mat)\n",
    "    n_rows = mat.shape[0]\n",
    "    return rank < n_rows\n",
    "    \n",
    "    \n",
    "response11 = {\n",
    "        'dependence': 'Depend' if check_linear_dependence_rows(matr) else 'InDepend'\n",
    "    }\n",
    "\n",
    "pprint(response11, indent=4, sort_dicts=False)\n",
    "    \n",
    "    "
   ]
  },
  {
   "cell_type": "markdown",
   "id": "272cb3ae",
   "metadata": {},
   "source": [
    "## Merging and splitting arrays"
   ]
  },
  {
   "cell_type": "markdown",
   "id": "a97e2898",
   "metadata": {},
   "source": [
    "### Merging arrays"
   ]
  },
  {
   "cell_type": "code",
   "execution_count": null,
   "id": "4f844f18",
   "metadata": {},
   "outputs": [
    {
     "name": "stdout",
     "output_type": "stream",
     "text": [
      "{   'A': array([[1, 2],\n",
      "       [3, 4]]),\n",
      "    'B': array([[5, 6],\n",
      "       [7, 8]]),\n",
      "    'merge_horizontal': array([[1, 2, 5, 6],\n",
      "       [3, 4, 7, 8]]),\n",
      "    'merge_vertical': array([[1, 2],\n",
      "       [3, 4],\n",
      "       [5, 6],\n",
      "       [7, 8]])}\n"
     ]
    }
   ],
   "source": [
    "a = np.array([(1,2), (3,4)])\n",
    "b = np.array([(5,6), (7,8)])\n",
    "\n",
    "\n",
    "# Merging arrays\n",
    "ab_horizontal = np.hstack((a, b))\n",
    "ab_vertical = np.vstack((a, b))\n",
    "\n",
    "\n",
    "response12 = {\n",
    "    'A': a,\n",
    "    'B': b,\n",
    "    'merge_horizontal': ab_horizontal,\n",
    "    'merge_vertical': ab_vertical,\n",
    "}\n",
    "\n",
    "pprint(response12, indent=4, sort_dicts=False)\n",
    "\n"
   ]
  },
  {
   "cell_type": "code",
   "execution_count": null,
   "id": "aa5840b1",
   "metadata": {},
   "outputs": [
    {
     "name": "stdout",
     "output_type": "stream",
     "text": [
      "{   'C': array([[[ 0,  1],\n",
      "        [ 2,  3],\n",
      "        [ 4,  5]],\n",
      "\n",
      "       [[ 6,  7],\n",
      "        [ 8,  9],\n",
      "        [10, 11]],\n",
      "\n",
      "       [[12, 13],\n",
      "        [14, 15],\n",
      "        [16, 17]]], dtype=int32),\n",
      "    'D': array([[[18, 19],\n",
      "        [20, 21],\n",
      "        [22, 23]],\n",
      "\n",
      "       [[24, 25],\n",
      "        [26, 27],\n",
      "        [28, 29]],\n",
      "\n",
      "       [[30, 31],\n",
      "        [32, 33],\n",
      "        [34, 35]]], dtype=int32),\n",
      "    'CD_horizontal': array([[[ 0,  1],\n",
      "        [ 2,  3],\n",
      "        [ 4,  5]],\n",
      "\n",
      "       [[ 6,  7],\n",
      "        [ 8,  9],\n",
      "        [10, 11]],\n",
      "\n",
      "       [[12, 13],\n",
      "        [14, 15],\n",
      "        [16, 17]],\n",
      "\n",
      "       [[18, 19],\n",
      "        [20, 21],\n",
      "        [22, 23]],\n",
      "\n",
      "       [[24, 25],\n",
      "        [26, 27],\n",
      "        [28, 29]],\n",
      "\n",
      "       [[30, 31],\n",
      "        [32, 33],\n",
      "        [34, 35]]], dtype=int32),\n",
      "    'CD_vertical': array([[[ 0,  1],\n",
      "        [ 2,  3],\n",
      "        [ 4,  5]],\n",
      "\n",
      "       [[ 6,  7],\n",
      "        [ 8,  9],\n",
      "        [10, 11]],\n",
      "\n",
      "       [[12, 13],\n",
      "        [14, 15],\n",
      "        [16, 17]],\n",
      "\n",
      "       [[18, 19],\n",
      "        [20, 21],\n",
      "        [22, 23]],\n",
      "\n",
      "       [[24, 25],\n",
      "        [26, 27],\n",
      "        [28, 29]],\n",
      "\n",
      "       [[30, 31],\n",
      "        [32, 33],\n",
      "        [34, 35]]], dtype=int32)}\n"
     ]
    }
   ],
   "source": [
    "c = np.fromiter(range(18), dtype='int32')\n",
    "d = np.fromiter(range(18, 36), dtype='int32')\n",
    "c.resize(3, 3, 2)\n",
    "d.resize(3, 3, 2)\n",
    "\n",
    "# Merging arrays\n",
    "cd_horizontal = np.hstack([c, d])\n",
    "cd_horizontal = np.vstack([c, d])\n",
    "\n",
    "\n",
    "response13 = {\n",
    "    'C': c,\n",
    "    'D': d,\n",
    "    'CD_horizontal': cd_horizontal,\n",
    "    'CD_vertical': cd_horizontal\n",
    "}\n",
    "\n",
    "\n",
    "pprint(response13, indent=4, sort_dicts=False)\n"
   ]
  },
  {
   "cell_type": "code",
   "execution_count": null,
   "id": "a1ced3b9",
   "metadata": {},
   "outputs": [
    {
     "name": "stdout",
     "output_type": "stream",
     "text": [
      "{   'A': array([[1, 2],\n",
      "       [3, 4]]),\n",
      "    'B': array([[5, 6],\n",
      "       [7, 8]]),\n",
      "    'merge_by_columns': array([[1, 2, 5, 6],\n",
      "       [3, 4, 7, 8]]),\n",
      "    'concatenate_by_rows': array([[1, 2],\n",
      "       [3, 4],\n",
      "       [5, 6],\n",
      "       [7, 8]]),\n",
      "    'concatenate_by_columns': array([[1, 2, 5, 6],\n",
      "       [3, 4, 7, 8]])}\n"
     ]
    }
   ],
   "source": [
    "# Merging arrays by columns\n",
    "a = np.array([(1,2), (3,4)])\n",
    "b = np.array([(5,6), (7,8)])\n",
    "\n",
    "response14 = {\n",
    "    'A': a,\n",
    "    'B': b,\n",
    "    'merge_by_columns': np.column_stack([a, b]), \n",
    "    'concatenate_by_rows': np.concatenate([a, b], axis=0),\n",
    "    'concatenate_by_columns': np.concatenate([a, b], axis=1)\n",
    "}\n",
    "\n",
    "pprint(response14, indent=4, sort_dicts=False)"
   ]
  },
  {
   "cell_type": "code",
   "execution_count": null,
   "id": "8129bfd7",
   "metadata": {},
   "outputs": [
    {
     "name": "stdout",
     "output_type": "stream",
     "text": [
      "{   'A': array([1, 2, 3]),\n",
      "    'B': array([4, 5, 6]),\n",
      "    'r_': array([1, 2, 3, 4, 5, 6]),\n",
      "    'c_': array([[1, 4],\n",
      "       [2, 5],\n",
      "       [3, 6]]),\n",
      "    'example-1': array([1, 2, 3, 4, 5]),\n",
      "    'example-2': array([  1,   2,   3,   4,   5,   6,   7,   8,  90, 100,   1,   2,   3])}\n"
     ]
    }
   ],
   "source": [
    "# r_ and c_ examples\n",
    "a = np.array([1, 2, 3])\n",
    "b = np.array([4, 5, 6])\n",
    "\n",
    "respionse15 = {\n",
    "    'A': a,\n",
    "    'B': b,\n",
    "    'r_': np.r_[a, b],\n",
    "    'c_': np.c_[a, b],\n",
    "    'example-1': np.r_[ [1, 2, 3], 4, 5],\n",
    "    'example-2': np.r_[1:9, 90, 100, [1, 2, 3]],\n",
    "}\n",
    "\n",
    "pprint(respionse15, indent=4, sort_dicts=False)"
   ]
  },
  {
   "cell_type": "markdown",
   "id": "5b532317",
   "metadata": {},
   "source": [
    "### Splitting arrays"
   ]
  },
  {
   "cell_type": "code",
   "execution_count": 158,
   "id": "6f2cb339",
   "metadata": {},
   "outputs": [
    {
     "name": "stdout",
     "output_type": "stream",
     "text": [
      "{   'A': array([0, 1, 2, 3, 4, 5, 6, 7, 8, 9]),\n",
      "    'vertical_split': [   array([[3, 5, 3, 6],\n",
      "       [4, 7, 1, 3]]),\n",
      "                          array([[5, 1, 2, 7],\n",
      "       [5, 5, 7, 8]])],\n",
      "    'C': array([[3, 5, 3, 6],\n",
      "       [4, 7, 1, 3],\n",
      "       [5, 1, 2, 7],\n",
      "       [5, 5, 7, 8]]),\n",
      "    'split_c': [   array([[3, 5, 3, 6],\n",
      "       [4, 7, 1, 3]]),\n",
      "                   array([[5, 1, 2, 7]]),\n",
      "                   array([[5, 5, 7, 8]])]}\n"
     ]
    }
   ],
   "source": [
    "a = np.arange(10)\n",
    "\n",
    "c = np.random.randint(0, 9, size=(4,4))\n",
    "d = np.random.randint(0, 9, size=(4,4))\n",
    "\n",
    "respionse16 = {\n",
    "    'A': a,\n",
    "    'vertical_split': np.vsplit(c, 2),\n",
    "    'C': c,    \n",
    "    'split_c': np.array_split(c, 3)\n",
    "}\n",
    "\n",
    "pprint(respionse16, indent=4, sort_dicts=False)"
   ]
  }
 ],
 "metadata": {
  "kernelspec": {
   "display_name": "Python 3",
   "language": "python",
   "name": "python3"
  },
  "language_info": {
   "codemirror_mode": {
    "name": "ipython",
    "version": 3
   },
   "file_extension": ".py",
   "mimetype": "text/x-python",
   "name": "python",
   "nbconvert_exporter": "python",
   "pygments_lexer": "ipython3",
   "version": "3.12.4"
  }
 },
 "nbformat": 4,
 "nbformat_minor": 5
}
