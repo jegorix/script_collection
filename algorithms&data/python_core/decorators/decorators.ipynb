{
 "cells": [
  {
   "cell_type": "markdown",
   "id": "ab36f14a",
   "metadata": {},
   "source": [
    "## Decorators"
   ]
  },
  {
   "cell_type": "code",
   "execution_count": null,
   "id": "688d1000",
   "metadata": {},
   "outputs": [
    {
     "name": "stdout",
     "output_type": "stream",
     "text": [
      "result = 3.0994415283203125e-06\n"
     ]
    },
    {
     "data": {
      "text/plain": [
       "124"
      ]
     },
     "execution_count": 15,
     "metadata": {},
     "output_type": "execute_result"
    }
   ],
   "source": [
    "import time\n",
    "from typing import Callable\n",
    "\n",
    "def timer_deco(func: Callable):\n",
    "    def wrapper():\n",
    "        start = time.time()\n",
    "        res = func()\n",
    "        end = time.time()\n",
    "        print(f\"result = {end - start}\")\n",
    "        return res\n",
    "    return wrapper\n",
    "    \n",
    "@timer_deco\n",
    "def my_func():\n",
    "    return 124\n",
    "\n",
    "\n",
    "# my_func = timer_deco(my_func)\n",
    "my_func()"
   ]
  },
  {
   "cell_type": "markdown",
   "id": "2db0b3f2",
   "metadata": {},
   "source": [
    "## Decorator (func with params)"
   ]
  },
  {
   "cell_type": "code",
   "execution_count": 16,
   "id": "b3758e5e",
   "metadata": {},
   "outputs": [],
   "source": [
    "def timer_deco_with_params(func: Callable):\n",
    "    def wrapper(*args, **kwargs):\n",
    "        start = time.time()\n",
    "        res = func(*args, **kwargs)\n",
    "        end = time.time()\n",
    "        print(f\"result = {end-start}\")\n",
    "        return res\n",
    "    return wrapper\n",
    "\n"
   ]
  },
  {
   "cell_type": "code",
   "execution_count": 20,
   "id": "834e23d6",
   "metadata": {},
   "outputs": [
    {
     "name": "stdout",
     "output_type": "stream",
     "text": [
      "result = 1.0049352645874023\n"
     ]
    },
    {
     "data": {
      "text/plain": [
       "35566"
      ]
     },
     "execution_count": 20,
     "metadata": {},
     "output_type": "execute_result"
    }
   ],
   "source": [
    "@timer_deco_with_params\n",
    "def my_func(sleep_time):\n",
    "    time.sleep(sleep_time)\n",
    "    return 1232 + 34334\n",
    "\n",
    "my_func(1)"
   ]
  },
  {
   "cell_type": "markdown",
   "id": "6affe1de",
   "metadata": {},
   "source": [
    "## Decorator with params"
   ]
  },
  {
   "cell_type": "code",
   "execution_count": null,
   "id": "41ddac20",
   "metadata": {},
   "outputs": [
    {
     "data": {
      "text/plain": [
       "468667"
      ]
     },
     "execution_count": 25,
     "metadata": {},
     "output_type": "execute_result"
    }
   ],
   "source": [
    "\n",
    "def deco_limit(limit: int):\n",
    "    loc_limit = 0\n",
    "    def wrapper(func: Callable):\n",
    "        def inner(*args, **kwargs):\n",
    "            nonlocal loc_limit\n",
    "            if loc_limit == limit:\n",
    "                raise ValueError(f\"You cant call this function more than {limit} times\")\n",
    "            res = func(*args, **kwargs)\n",
    "            loc_limit += 1\n",
    "            return res\n",
    "        return inner\n",
    "    return wrapper\n",
    "\n",
    "@deco_limit(1)\n",
    "def my_func(sleep_time):\n",
    "    time.sleep(sleep_time)\n",
    "    return 434323 + 34344\n",
    "\n",
    "\n",
    "my_func(1)\n",
    "my_func(2)\n"
   ]
  },
  {
   "cell_type": "markdown",
   "id": "913c5f9d",
   "metadata": {},
   "source": [
    "## @wraps usage in decorators"
   ]
  },
  {
   "cell_type": "code",
   "execution_count": 36,
   "id": "e2b27a1a",
   "metadata": {},
   "outputs": [
    {
     "name": "stdout",
     "output_type": "stream",
     "text": [
      "1152921504606846976\n",
      "1152921504606846976\n",
      "\n",
      "    Very important docstring\n",
      "    \n",
      "my_func\n"
     ]
    }
   ],
   "source": [
    "from functools import wraps\n",
    "\n",
    "def deco_limit_params(limit: int):\n",
    "    def wrapper(func: Callable):\n",
    "        @wraps(func)\n",
    "        def inner(*args, **kwargs):\n",
    "            nonlocal limit \n",
    "            if limit == 0:\n",
    "                raise Exception(\"You cannot call this function\")\n",
    "            res = func(*args, **kwargs)\n",
    "            limit -= 1\n",
    "            print(res)\n",
    "            return res\n",
    "        return inner\n",
    "    return wrapper\n",
    "\n",
    "@deco_limit_params(2)\n",
    "def my_func(sleep_time):\n",
    "    \"\"\"\n",
    "    Very important docstring\n",
    "    \"\"\"\n",
    "    time.sleep(sleep_time)\n",
    "    return 32**12\n",
    "\n",
    "\n",
    "my_func(1)\n",
    "my_func(1)\n",
    "print(my_func.__doc__)\n",
    "print(my_func.__name__)"
   ]
  },
  {
   "cell_type": "markdown",
   "id": "1440e72c",
   "metadata": {},
   "source": [
    "## Decorator for async functions\n"
   ]
  },
  {
   "cell_type": "code",
   "execution_count": 37,
   "id": "a6946136",
   "metadata": {},
   "outputs": [
    {
     "data": {
      "text/plain": [
       "1"
      ]
     },
     "execution_count": 37,
     "metadata": {},
     "output_type": "execute_result"
    }
   ],
   "source": [
    "from typing import Coroutine\n",
    "import asyncio\n",
    "\n",
    "def deco(coroutine: Coroutine | Callable):\n",
    "    async def wrapper(*args, **kwargs):\n",
    "        res = await coroutine(*args, **kwargs)\n",
    "        return res\n",
    "    return wrapper\n",
    "\n",
    "\n",
    "async def my_async_func(sleep_time):\n",
    "    await asyncio.sleep(sleep_time)\n",
    "    return 1\n",
    "\n",
    "\n",
    "await my_async_func(0.5)"
   ]
  },
  {
   "cell_type": "markdown",
   "id": "6026fcc8",
   "metadata": {},
   "source": [
    "## Example. Decorator Cash"
   ]
  },
  {
   "cell_type": "code",
   "execution_count": 39,
   "id": "8ca80880",
   "metadata": {},
   "outputs": [
    {
     "name": "stdout",
     "output_type": "stream",
     "text": [
      "2386420683693101056\n",
      "2386420683693101056\n",
      "2386420683693101056\n"
     ]
    }
   ],
   "source": [
    "from functools import lru_cache\n",
    "\n",
    "@lru_cache\n",
    "def my_long_calculations():\n",
    "    time.sleep(3)\n",
    "    return 34**12\n",
    "\n",
    "print(my_long_calculations())\n",
    "print(my_long_calculations())\n",
    "print(my_long_calculations())"
   ]
  },
  {
   "cell_type": "markdown",
   "id": "5a0007f9",
   "metadata": {},
   "source": [
    "## Example. Context Manager"
   ]
  },
  {
   "cell_type": "code",
   "execution_count": 40,
   "id": "21f99739",
   "metadata": {},
   "outputs": [
    {
     "name": "stdout",
     "output_type": "stream",
     "text": [
      "start\n",
      "123456\n",
      "end\n"
     ]
    }
   ],
   "source": [
    "from contextlib import contextmanager\n",
    "\n",
    "@contextmanager\n",
    "def ctx_manager():\n",
    "    print(\"start\")\n",
    "    yield\n",
    "    print(\"end\")\n",
    "    \n",
    "with ctx_manager() as man:\n",
    "    print(\"123456\")"
   ]
  },
  {
   "cell_type": "markdown",
   "id": "32e0c70c",
   "metadata": {},
   "source": [
    "## Task for training\n"
   ]
  },
  {
   "cell_type": "code",
   "execution_count": null,
   "id": "95d8309c",
   "metadata": {},
   "outputs": [
    {
     "name": "stdout",
     "output_type": "stream",
     "text": [
      "func my_func args (1, 2) kwargs {'с': 10}\n"
     ]
    },
    {
     "ename": "TypeError",
     "evalue": "my_func() got an unexpected keyword argument 'с'",
     "output_type": "error",
     "traceback": [
      "\u001b[0;31m---------------------------------------------------------------------------\u001b[0m",
      "\u001b[0;31mTypeError\u001b[0m                                 Traceback (most recent call last)",
      "Cell \u001b[0;32mIn[42], line 12\u001b[0m\n\u001b[1;32m      8\u001b[0m \u001b[38;5;129m@show_logs\u001b[39m\n\u001b[1;32m      9\u001b[0m \u001b[38;5;28;01mdef\u001b[39;00m \u001b[38;5;21mmy_func\u001b[39m(a, b, c):\n\u001b[1;32m     10\u001b[0m     \u001b[38;5;28;01mreturn\u001b[39;00m a \u001b[38;5;241m+\u001b[39m b \u001b[38;5;241m+\u001b[39m c\n\u001b[0;32m---> 12\u001b[0m \u001b[43mmy_func\u001b[49m\u001b[43m(\u001b[49m\u001b[38;5;241;43m1\u001b[39;49m\u001b[43m,\u001b[49m\u001b[43m \u001b[49m\u001b[38;5;241;43m2\u001b[39;49m\u001b[43m,\u001b[49m\u001b[43m \u001b[49m\u001b[43mс\u001b[49m\u001b[38;5;241;43m=\u001b[39;49m\u001b[38;5;241;43m10\u001b[39;49m\u001b[43m)\u001b[49m\n",
      "Cell \u001b[0;32mIn[42], line 5\u001b[0m, in \u001b[0;36mshow_logs.<locals>.wrapper\u001b[0;34m(*args, **kwargs)\u001b[0m\n\u001b[1;32m      2\u001b[0m \u001b[38;5;129m@wraps\u001b[39m(func)\n\u001b[1;32m      3\u001b[0m \u001b[38;5;28;01mdef\u001b[39;00m \u001b[38;5;21mwrapper\u001b[39m(\u001b[38;5;241m*\u001b[39margs, \u001b[38;5;241m*\u001b[39m\u001b[38;5;241m*\u001b[39mkwargs):\n\u001b[1;32m      4\u001b[0m     \u001b[38;5;28mprint\u001b[39m(\u001b[38;5;124mf\u001b[39m\u001b[38;5;124m\"\u001b[39m\u001b[38;5;124mfunc \u001b[39m\u001b[38;5;132;01m{\u001b[39;00mfunc\u001b[38;5;241m.\u001b[39m\u001b[38;5;18m__name__\u001b[39m\u001b[38;5;132;01m}\u001b[39;00m\u001b[38;5;124m args \u001b[39m\u001b[38;5;132;01m{\u001b[39;00margs\u001b[38;5;132;01m}\u001b[39;00m\u001b[38;5;124m kwargs \u001b[39m\u001b[38;5;132;01m{\u001b[39;00mkwargs\u001b[38;5;132;01m}\u001b[39;00m\u001b[38;5;124m\"\u001b[39m)\n\u001b[0;32m----> 5\u001b[0m     \u001b[38;5;28;01mreturn\u001b[39;00m \u001b[43mfunc\u001b[49m\u001b[43m(\u001b[49m\u001b[38;5;241;43m*\u001b[39;49m\u001b[43margs\u001b[49m\u001b[43m,\u001b[49m\u001b[43m \u001b[49m\u001b[38;5;241;43m*\u001b[39;49m\u001b[38;5;241;43m*\u001b[39;49m\u001b[43mkwargs\u001b[49m\u001b[43m)\u001b[49m\n",
      "\u001b[0;31mTypeError\u001b[0m: my_func() got an unexpected keyword argument 'с'"
     ]
    }
   ],
   "source": [
    "def show_logs(func: Callable):\n",
    "    @wraps(func)\n",
    "    def wrapper(*args, **kwargs):\n",
    "        print(f\"func {func.__name__} args {args} kwargs {kwargs}\")\n",
    "        return func(*args, **kwargs)\n",
    "    return wrapper\n",
    "\n",
    "@show_logs\n",
    "def my_func(a, b, c):\n",
    "    return a + b + c\n",
    "\n",
    "my_func(1, 2, c=10)"
   ]
  }
 ],
 "metadata": {
  "kernelspec": {
   "display_name": "Python 3",
   "language": "python",
   "name": "python3"
  },
  "language_info": {
   "codemirror_mode": {
    "name": "ipython",
    "version": 3
   },
   "file_extension": ".py",
   "mimetype": "text/x-python",
   "name": "python",
   "nbconvert_exporter": "python",
   "pygments_lexer": "ipython3",
   "version": "3.12.4"
  }
 },
 "nbformat": 4,
 "nbformat_minor": 5
}
