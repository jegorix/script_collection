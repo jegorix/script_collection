{
 "cells": [
  {
   "cell_type": "markdown",
   "id": "a9f4e72e",
   "metadata": {},
   "source": [
    "## Asynco with Yield"
   ]
  },
  {
   "cell_type": "code",
   "execution_count": 2,
   "id": "247f6955",
   "metadata": {},
   "outputs": [
    {
     "name": "stdout",
     "output_type": "stream",
     "text": [
      "/Users/\n",
      "5 sec\n",
      "/Users/Shared\n",
      "/Users/Shared/Previously Relocated Items 1\n",
      "/Users/Shared/Previously Relocated Items 1/Configuration\n",
      "/Users/Shared/Previously Relocated Items 1/Configuration/private\n",
      "/Users/Shared/Previously Relocated Items 1/Configuration/private/etc\n",
      "5 sec\n",
      "/Users/Shared/Previously Relocated Items 1/Configuration/private/etc/ssh.system_default\n",
      "/Users/Shared/Previously Relocated Items 1/Configuration/private/etc/ssh.system_default/crypto\n",
      "/Users/Shared/Previously Relocated Items 1/Configuration/private/etc/ssh.system_default/ssh_config.d\n",
      "/Users/Shared/Previously Relocated Items 1/Configuration/private/etc/ssh.system_default/sshd_config.d\n",
      "/Users/Shared/SC Info\n",
      "5 sec\n",
      "/Users/Shared/Relocated Items\n",
      "/Users/Shared/Relocated Items/Configuration\n",
      "/Users/Shared/Relocated Items/Configuration/private\n",
      "/Users/Shared/Relocated Items/Configuration/private/etc\n",
      "/Users/Shared/Relocated Items/Configuration/private/etc/ssh.system_default\n",
      "5 sec\n",
      "/Users/Shared/Relocated Items/Configuration/private/etc/ssh.system_default/crypto\n",
      "/Users/Shared/Relocated Items/Configuration/private/etc/ssh.system_default/ssh_config.d\n",
      "/Users/Shared/Relocated Items/Configuration/private/etc/ssh.system_default/sshd_config.d\n",
      "/Users/Shared/Previously Relocated Items 5\n",
      "/Users/Shared/Previously Relocated Items 5/Configuration\n",
      "5 sec\n",
      "/Users/Shared/Previously Relocated Items 5/Configuration/private\n",
      "/Users/Shared/Previously Relocated Items 5/Configuration/private/etc\n",
      "/Users/Shared/Previously Relocated Items 5/Configuration/private/etc/ssh.system_default\n"
     ]
    },
    {
     "ename": "KeyboardInterrupt",
     "evalue": "",
     "output_type": "error",
     "traceback": [
      "\u001b[0;31m---------------------------------------------------------------------------\u001b[0m",
      "\u001b[0;31mKeyboardInterrupt\u001b[0m                         Traceback (most recent call last)",
      "Cell \u001b[0;32mIn[2], line 28\u001b[0m\n\u001b[1;32m     24\u001b[0m         \u001b[38;5;28;01mif\u001b[39;00m c: \u001b[38;5;28mprint\u001b[39m(c)\n\u001b[1;32m     25\u001b[0m         time\u001b[38;5;241m.\u001b[39msleep(\u001b[38;5;241m1\u001b[39m)\n\u001b[0;32m---> 28\u001b[0m \u001b[43mmain\u001b[49m\u001b[43m(\u001b[49m\u001b[43m)\u001b[49m\n",
      "Cell \u001b[0;32mIn[2], line 25\u001b[0m, in \u001b[0;36mmain\u001b[0;34m()\u001b[0m\n\u001b[1;32m     23\u001b[0m \u001b[38;5;28mprint\u001b[39m(q)\n\u001b[1;32m     24\u001b[0m \u001b[38;5;28;01mif\u001b[39;00m c: \u001b[38;5;28mprint\u001b[39m(c)\n\u001b[0;32m---> 25\u001b[0m \u001b[43mtime\u001b[49m\u001b[38;5;241;43m.\u001b[39;49m\u001b[43msleep\u001b[49m\u001b[43m(\u001b[49m\u001b[38;5;241;43m1\u001b[39;49m\u001b[43m)\u001b[49m\n",
      "\u001b[0;31mKeyboardInterrupt\u001b[0m: "
     ]
    }
   ],
   "source": [
    "import os\n",
    "import time \n",
    "\n",
    "def clock():\n",
    "    time0 = round(time.time())\n",
    "    while True:\n",
    "        if round(time.time() - time0) % 5 == 0:\n",
    "            yield '5 sec'\n",
    "        else:\n",
    "            yield 0\n",
    "            \n",
    "def query():\n",
    "    for path in os.walk('/Users/'):\n",
    "        yield path[0]\n",
    "    \n",
    "def main():\n",
    "    query_gen = query()\n",
    "    clock_gen = clock()\n",
    "    \n",
    "    while True:\n",
    "        q = next(query_gen)\n",
    "        c = next(clock_gen)\n",
    "        print(q)\n",
    "        if c: print(c)\n",
    "        time.sleep(1)\n",
    "        \n",
    "   \n",
    "main()\n",
    "        \n",
    "    \n",
    "    "
   ]
  },
  {
   "cell_type": "markdown",
   "id": "65f15a55",
   "metadata": {},
   "source": [
    "## Asyncio "
   ]
  },
  {
   "cell_type": "code",
   "execution_count": null,
   "id": "28d4a9d0",
   "metadata": {},
   "outputs": [
    {
     "name": "stdout",
     "output_type": "stream",
     "text": [
      "1\n",
      "3\n",
      "2\n"
     ]
    }
   ],
   "source": [
    "import asyncio\n",
    "\n",
    "async def print1():\n",
    "    print(1)\n",
    "    \n",
    "async def print2():\n",
    "    await asyncio.sleep(3)\n",
    "    print(2)\n",
    "    \n",
    "async def print3():\n",
    "    print(3)\n",
    "    \n",
    "async def main():\n",
    "    async with asyncio.TaskGroup() as tg:\n",
    "        tg.create_task(print1())\n",
    "        tg.create_task(print2())\n",
    "        tg.create_task(print3())\n",
    "    \n",
    "# async def main():\n",
    "#     task1 = asyncio.create_task(print1())\n",
    "#     task2 = asyncio.create_task(print2())\n",
    "#     task3 = asyncio.create_task(print3())\n",
    "    \n",
    "#     # await task1\n",
    "#     # await task2\n",
    "#     # await task3\n",
    "    \n",
    "#     # await asyncio.gather(task1, task2, task3)\n",
    "\n",
    "#     tasks = [task1, task2, task3]\n",
    "#     await asyncio.gather(*tasks)\n",
    "    \n",
    "await main()"
   ]
  },
  {
   "cell_type": "markdown",
   "id": "d143677e",
   "metadata": {},
   "source": [
    "## Asyncio Example 2"
   ]
  },
  {
   "cell_type": "code",
   "execution_count": null,
   "id": "6848dff9",
   "metadata": {},
   "outputs": [
    {
     "name": "stdout",
     "output_type": "stream",
     "text": [
      "1\n",
      "2\n",
      "result = 1\n",
      "3\n",
      "4\n"
     ]
    },
    {
     "ename": "CancelledError",
     "evalue": "",
     "output_type": "error",
     "traceback": [
      "\u001b[0;31m---------------------------------------------------------------------------\u001b[0m",
      "\u001b[0;31mCancelledError\u001b[0m                            Traceback (most recent call last)",
      "Cell \u001b[0;32mIn[21], line 15\u001b[0m\n\u001b[1;32m     12\u001b[0m         \u001b[38;5;28;01mfor\u001b[39;00m i \u001b[38;5;129;01min\u001b[39;00m \u001b[38;5;28mrange\u001b[39m(\u001b[38;5;241m1\u001b[39m, \u001b[38;5;241m16\u001b[39m):\n\u001b[1;32m     13\u001b[0m             tg\u001b[38;5;241m.\u001b[39mcreate_task(print1(i))\n\u001b[0;32m---> 15\u001b[0m \u001b[38;5;28;01mawait\u001b[39;00m main()\n",
      "Cell \u001b[0;32mIn[21], line 11\u001b[0m, in \u001b[0;36mmain\u001b[0;34m()\u001b[0m\n\u001b[1;32m     10\u001b[0m \u001b[38;5;28;01masync\u001b[39;00m \u001b[38;5;28;01mdef\u001b[39;00m \u001b[38;5;21mmain\u001b[39m():\n\u001b[0;32m---> 11\u001b[0m     \u001b[38;5;28;01masync\u001b[39;00m \u001b[38;5;28;01mwith\u001b[39;00m asyncio\u001b[38;5;241m.\u001b[39mTaskGroup() \u001b[38;5;28;01mas\u001b[39;00m tg:\n\u001b[1;32m     12\u001b[0m         \u001b[38;5;28;01mfor\u001b[39;00m i \u001b[38;5;129;01min\u001b[39;00m \u001b[38;5;28mrange\u001b[39m(\u001b[38;5;241m1\u001b[39m, \u001b[38;5;241m16\u001b[39m):\n\u001b[1;32m     13\u001b[0m             tg\u001b[38;5;241m.\u001b[39mcreate_task(print1(i))\n",
      "File \u001b[0;32m/Library/Frameworks/Python.framework/Versions/3.12/lib/python3.12/asyncio/taskgroups.py:134\u001b[0m, in \u001b[0;36mTaskGroup.__aexit__\u001b[0;34m(self, et, exc, tb)\u001b[0m\n\u001b[1;32m    131\u001b[0m \u001b[38;5;66;03m# Propagate CancelledError if there is one, except if there\u001b[39;00m\n\u001b[1;32m    132\u001b[0m \u001b[38;5;66;03m# are other errors -- those have priority.\u001b[39;00m\n\u001b[1;32m    133\u001b[0m \u001b[38;5;28;01mif\u001b[39;00m propagate_cancellation_error \u001b[38;5;129;01mand\u001b[39;00m \u001b[38;5;129;01mnot\u001b[39;00m \u001b[38;5;28mself\u001b[39m\u001b[38;5;241m.\u001b[39m_errors:\n\u001b[0;32m--> 134\u001b[0m     \u001b[38;5;28;01mraise\u001b[39;00m propagate_cancellation_error\n\u001b[1;32m    136\u001b[0m \u001b[38;5;28;01mif\u001b[39;00m et \u001b[38;5;129;01mis\u001b[39;00m \u001b[38;5;129;01mnot\u001b[39;00m \u001b[38;5;28;01mNone\u001b[39;00m \u001b[38;5;129;01mand\u001b[39;00m et \u001b[38;5;129;01mis\u001b[39;00m \u001b[38;5;129;01mnot\u001b[39;00m exceptions\u001b[38;5;241m.\u001b[39mCancelledError:\n\u001b[1;32m    137\u001b[0m     \u001b[38;5;28mself\u001b[39m\u001b[38;5;241m.\u001b[39m_errors\u001b[38;5;241m.\u001b[39mappend(exc)\n",
      "File \u001b[0;32m/Library/Frameworks/Python.framework/Versions/3.12/lib/python3.12/asyncio/taskgroups.py:110\u001b[0m, in \u001b[0;36mTaskGroup.__aexit__\u001b[0;34m(self, et, exc, tb)\u001b[0m\n\u001b[1;32m    107\u001b[0m     \u001b[38;5;28mself\u001b[39m\u001b[38;5;241m.\u001b[39m_on_completed_fut \u001b[38;5;241m=\u001b[39m \u001b[38;5;28mself\u001b[39m\u001b[38;5;241m.\u001b[39m_loop\u001b[38;5;241m.\u001b[39mcreate_future()\n\u001b[1;32m    109\u001b[0m \u001b[38;5;28;01mtry\u001b[39;00m:\n\u001b[0;32m--> 110\u001b[0m     \u001b[38;5;28;01mawait\u001b[39;00m \u001b[38;5;28mself\u001b[39m\u001b[38;5;241m.\u001b[39m_on_completed_fut\n\u001b[1;32m    111\u001b[0m \u001b[38;5;28;01mexcept\u001b[39;00m exceptions\u001b[38;5;241m.\u001b[39mCancelledError \u001b[38;5;28;01mas\u001b[39;00m ex:\n\u001b[1;32m    112\u001b[0m     \u001b[38;5;28;01mif\u001b[39;00m \u001b[38;5;129;01mnot\u001b[39;00m \u001b[38;5;28mself\u001b[39m\u001b[38;5;241m.\u001b[39m_aborting:\n\u001b[1;32m    113\u001b[0m         \u001b[38;5;66;03m# Our parent task is being cancelled:\u001b[39;00m\n\u001b[1;32m    114\u001b[0m         \u001b[38;5;66;03m#\u001b[39;00m\n\u001b[0;32m   (...)\u001b[0m\n\u001b[1;32m    119\u001b[0m         \u001b[38;5;66;03m# \"wrapper\" is being cancelled while \"foo\" is\u001b[39;00m\n\u001b[1;32m    120\u001b[0m         \u001b[38;5;66;03m# still running.\u001b[39;00m\n",
      "\u001b[0;31mCancelledError\u001b[0m: "
     ]
    }
   ],
   "source": [
    "async def do_something(sec):\n",
    "    await asyncio.sleep(sec)\n",
    "    print(f\"result = {sec}\")\n",
    "    \n",
    "async def print1(sec):\n",
    "    await asyncio.sleep(sec)\n",
    "    print(sec)\n",
    "    await do_something(sec)\n",
    "    \n",
    "async def main():\n",
    "    async with asyncio.TaskGroup() as tg:\n",
    "        for i in range(1, 16):\n",
    "            tg.create_task(print1(i))\n",
    "            \n",
    "await main()"
   ]
  },
  {
   "cell_type": "markdown",
   "id": "819532b6",
   "metadata": {},
   "source": [
    "## Asyncio counter"
   ]
  },
  {
   "cell_type": "code",
   "execution_count": 3,
   "id": "32e3b999",
   "metadata": {},
   "outputs": [
    {
     "ename": "NameError",
     "evalue": "name 'asyncio' is not defined",
     "output_type": "error",
     "traceback": [
      "\u001b[0;31m---------------------------------------------------------------------------\u001b[0m",
      "\u001b[0;31mNameError\u001b[0m                                 Traceback (most recent call last)",
      "Cell \u001b[0;32mIn[3], line 44\u001b[0m\n\u001b[1;32m     41\u001b[0m     task3 \u001b[38;5;241m=\u001b[39m asyncio\u001b[38;5;241m.\u001b[39mcreate_task(count3(\u001b[38;5;241m1\u001b[39m))\n\u001b[1;32m     42\u001b[0m     \u001b[38;5;28;01mawait\u001b[39;00m asyncio\u001b[38;5;241m.\u001b[39mgather(task1, task2, task3)\n\u001b[0;32m---> 44\u001b[0m \u001b[38;5;28;01mawait\u001b[39;00m main()\n\u001b[1;32m     45\u001b[0m \u001b[38;5;28;01mawait\u001b[39;00m main_order()\n\u001b[1;32m     46\u001b[0m \u001b[38;5;66;03m# asyncio.run(main())\u001b[39;00m\n\u001b[1;32m     47\u001b[0m \u001b[38;5;66;03m# asyncio.ran(main_order())\u001b[39;00m\n",
      "Cell \u001b[0;32mIn[3], line 23\u001b[0m, in \u001b[0;36mtimer.<locals>.wrapper\u001b[0;34m(*args, **kwrags)\u001b[0m\n\u001b[1;32m     20\u001b[0m \u001b[38;5;129m@wraps\u001b[39m(func)\n\u001b[1;32m     21\u001b[0m \u001b[38;5;28;01masync\u001b[39;00m \u001b[38;5;28;01mdef\u001b[39;00m \u001b[38;5;21mwrapper\u001b[39m(\u001b[38;5;241m*\u001b[39margs, \u001b[38;5;241m*\u001b[39m\u001b[38;5;241m*\u001b[39mkwrags):\n\u001b[1;32m     22\u001b[0m     start \u001b[38;5;241m=\u001b[39m time\u001b[38;5;241m.\u001b[39mtime()\n\u001b[0;32m---> 23\u001b[0m     result \u001b[38;5;241m=\u001b[39m \u001b[38;5;28;01mawait\u001b[39;00m func(\u001b[38;5;241m*\u001b[39margs, \u001b[38;5;241m*\u001b[39m\u001b[38;5;241m*\u001b[39mkwrags)\n\u001b[1;32m     24\u001b[0m     end \u001b[38;5;241m=\u001b[39m time\u001b[38;5;241m.\u001b[39mtime()\n\u001b[1;32m     25\u001b[0m     \u001b[38;5;28mprint\u001b[39m(\u001b[38;5;124mf\u001b[39m\u001b[38;5;124m'\u001b[39m\u001b[38;5;124mResult for \u001b[39m\u001b[38;5;132;01m{\u001b[39;00mfunc\u001b[38;5;241m.\u001b[39m\u001b[38;5;18m__name__\u001b[39m\u001b[38;5;132;01m}\u001b[39;00m\u001b[38;5;124m = \u001b[39m\u001b[38;5;132;01m{\u001b[39;00mend\u001b[38;5;241m-\u001b[39mstart\u001b[38;5;132;01m:\u001b[39;00m\u001b[38;5;124m.2f\u001b[39m\u001b[38;5;132;01m}\u001b[39;00m\u001b[38;5;124m'\u001b[39m)\n",
      "Cell \u001b[0;32mIn[3], line 39\u001b[0m, in \u001b[0;36mmain\u001b[0;34m()\u001b[0m\n\u001b[1;32m     37\u001b[0m \u001b[38;5;129m@timer\u001b[39m    \n\u001b[1;32m     38\u001b[0m \u001b[38;5;28;01masync\u001b[39;00m \u001b[38;5;28;01mdef\u001b[39;00m \u001b[38;5;21mmain\u001b[39m():\n\u001b[0;32m---> 39\u001b[0m     task1 \u001b[38;5;241m=\u001b[39m \u001b[43masyncio\u001b[49m\u001b[38;5;241m.\u001b[39mcreate_task(count1(\u001b[38;5;241m2\u001b[39m))\n\u001b[1;32m     40\u001b[0m     task2 \u001b[38;5;241m=\u001b[39m asyncio\u001b[38;5;241m.\u001b[39mcreate_task(count2(\u001b[38;5;241m3\u001b[39m))\n\u001b[1;32m     41\u001b[0m     task3 \u001b[38;5;241m=\u001b[39m asyncio\u001b[38;5;241m.\u001b[39mcreate_task(count3(\u001b[38;5;241m1\u001b[39m))\n",
      "\u001b[0;31mNameError\u001b[0m: name 'asyncio' is not defined"
     ]
    }
   ],
   "source": [
    "from functools import wraps\n",
    "\n",
    "async def count1(n):\n",
    "    print(f'start {n}')\n",
    "    await asyncio.sleep(n)\n",
    "    print(f'finish {n}')\n",
    "    \n",
    "async def count2(n):\n",
    "    print(f'start {n}')\n",
    "    await asyncio.sleep(n)\n",
    "    print(f'finish {n}')\n",
    "    \n",
    "async def count3(n):\n",
    "    print(f'start {n}')\n",
    "    await asyncio.sleep(n)\n",
    "    print(f'finish {n}')\n",
    "    \n",
    "\n",
    "def timer(func):\n",
    "    @wraps(func)\n",
    "    async def wrapper(*args, **kwrags):\n",
    "        start = time.time()\n",
    "        result = await func(*args, **kwrags)\n",
    "        end = time.time()\n",
    "        print(f'Result for {func.__name__} = {end-start:.2f}')\n",
    "        return result\n",
    "    return wrapper\n",
    "\n",
    "\n",
    "@timer\n",
    "async def main_order():\n",
    "    await count1(2)\n",
    "    await count2(3)\n",
    "    await count3(1)\n",
    "    \n",
    "    \n",
    "@timer    \n",
    "async def main():\n",
    "    task1 = asyncio.create_task(count1(2))\n",
    "    task2 = asyncio.create_task(count2(3))\n",
    "    task3 = asyncio.create_task(count3(1))\n",
    "    await asyncio.gather(task1, task2, task3)\n",
    "    \n",
    "await main()\n",
    "await main_order()\n",
    "# asyncio.run(main())\n",
    "# asyncio.ran(main_order())\n",
    "    \n"
   ]
  },
  {
   "cell_type": "markdown",
   "id": "b95f5bb7",
   "metadata": {},
   "source": []
  },
  {
   "cell_type": "markdown",
   "id": "f8e0c206",
   "metadata": {},
   "source": [
    "## Task Cancel"
   ]
  },
  {
   "cell_type": "code",
   "execution_count": null,
   "id": "ba89dd8a",
   "metadata": {},
   "outputs": [
    {
     "name": "stdout",
     "output_type": "stream",
     "text": [
      "Time is up. Canceling...\n",
      "Cancel verified - catch exception\n",
      "Завершено\n"
     ]
    }
   ],
   "source": [
    "async def long_task(n):\n",
    "    \n",
    "    try:\n",
    "        await asyncio.sleep(n)\n",
    "    except asyncio.CancelledError:\n",
    "        print(\"Cancel verified - catch exception\")\n",
    "    \n",
    "    print(\"Завершено\")\n",
    "    \n",
    "async def main():\n",
    "    task1 = asyncio.create_task(long_task(5))\n",
    "    \n",
    "    await asyncio.sleep(1)\n",
    "    print(\"Time is up. Canceling...\")\n",
    "    task1.cancel()\n",
    "    \n",
    "    await asyncio.gather(task1)\n",
    "    \n",
    "await main()"
   ]
  },
  {
   "cell_type": "markdown",
   "id": "af7ca2ce",
   "metadata": {},
   "source": [
    "## Asyncio wait_for"
   ]
  },
  {
   "cell_type": "code",
   "execution_count": null,
   "id": "601cbe9d",
   "metadata": {},
   "outputs": [
    {
     "name": "stdout",
     "output_type": "stream",
     "text": [
      "Не уложился\n"
     ]
    }
   ],
   "source": [
    "async def delayed_func(n):\n",
    "    await asyncio.sleep(n)\n",
    "    print(\"Завершено\")\n",
    "    \n",
    "    \n",
    "async def main():\n",
    "    try:\n",
    "        await asyncio.wait_for(delayed_func(5), 2)\n",
    "    except asyncio.TimeoutError:\n",
    "        print(\"Не уложился\")\n",
    "        \n",
    "await main()"
   ]
  },
  {
   "cell_type": "markdown",
   "id": "2b75817a",
   "metadata": {},
   "source": [
    "## Asyncio queue"
   ]
  },
  {
   "cell_type": "code",
   "execution_count": null,
   "id": "2617e8cd",
   "metadata": {},
   "outputs": [
    {
     "name": "stdout",
     "output_type": "stream",
     "text": [
      "Produced 0 into queue\n",
      "Processing 0\n",
      "Produced 1 into queue\n",
      "Processing 1\n",
      "Produced 2 into queue\n",
      "Produced 3 into queue\n",
      "Processing 2\n",
      "Produced 4 into queue\n",
      "Processing 3\n",
      "Processing 4\n"
     ]
    }
   ],
   "source": [
    "import asyncio\n",
    "\n",
    "queue = asyncio.Queue()\n",
    "\n",
    "async def producer():\n",
    "    for i in range(5):\n",
    "        await asyncio.sleep(1)\n",
    "        await queue.put(i)\n",
    "        print(f\"Produced {i} into queue\")\n",
    "        \n",
    "async def consumer():\n",
    "    while True:\n",
    "        item = await queue.get()\n",
    "        print(f\"Processing {item}\")\n",
    "        await asyncio.sleep(2)\n",
    "        queue.task_done()\n",
    "        \n",
    "async def main():\n",
    "    prod = asyncio.create_task(producer())\n",
    "    cons = asyncio.create_task(consumer())\n",
    "    \n",
    "    await prod\n",
    "    await queue.join()\n",
    "    cons.cancel()\n",
    "    \n",
    "    \n",
    "await main()"
   ]
  },
  {
   "cell_type": "markdown",
   "id": "0eea0099",
   "metadata": {},
   "source": [
    "## Asyncio queue task"
   ]
  },
  {
   "cell_type": "code",
   "execution_count": 16,
   "id": "761b9adb",
   "metadata": {},
   "outputs": [
    {
     "name": "stdout",
     "output_type": "stream",
     "text": [
      "Producer-A added 1 into queue\n",
      "Consumer-1 processing item = A–1\n",
      "Producer-B added 1 into queue\n",
      "Consumer-2 processing item = B–1\n",
      "Producer-A added 2 into queue\n",
      "Producer-A added 3 into queue\n",
      "Producer-B added 2 into queue\n",
      "Consumer-1 processing item = A–2\n",
      "Producer-A added 4 into queue\n"
     ]
    },
    {
     "ename": "CancelledError",
     "evalue": "",
     "output_type": "error",
     "traceback": [
      "\u001b[0;31m---------------------------------------------------------------------------\u001b[0m",
      "\u001b[0;31mCancelledError\u001b[0m                            Traceback (most recent call last)",
      "Cell \u001b[0;32mIn[16], line 33\u001b[0m\n\u001b[1;32m     28\u001b[0m     cons_2\u001b[38;5;241m.\u001b[39mcancel()\n\u001b[1;32m     30\u001b[0m     \u001b[38;5;28mprint\u001b[39m(\u001b[38;5;124m\"\u001b[39m\u001b[38;5;124mAll tasks have complited and consumers have stopped\u001b[39m\u001b[38;5;124m\"\u001b[39m)\n\u001b[0;32m---> 33\u001b[0m \u001b[38;5;28;01mawait\u001b[39;00m main()\n",
      "Cell \u001b[0;32mIn[16], line 25\u001b[0m, in \u001b[0;36mmain\u001b[0;34m()\u001b[0m\n\u001b[1;32m     22\u001b[0m cons_1 \u001b[38;5;241m=\u001b[39m asyncio\u001b[38;5;241m.\u001b[39mcreate_task(consumer(\u001b[38;5;241m1\u001b[39m, \u001b[38;5;241m3\u001b[39m))\n\u001b[1;32m     23\u001b[0m cons_2 \u001b[38;5;241m=\u001b[39m asyncio\u001b[38;5;241m.\u001b[39mcreate_task(consumer(\u001b[38;5;241m2\u001b[39m, \u001b[38;5;241m4\u001b[39m))\n\u001b[0;32m---> 25\u001b[0m \u001b[38;5;28;01mawait\u001b[39;00m asyncio\u001b[38;5;241m.\u001b[39mgather(prod_a, prod_b)\n\u001b[1;32m     26\u001b[0m \u001b[38;5;28;01mawait\u001b[39;00m queue\u001b[38;5;241m.\u001b[39mjoin()\n\u001b[1;32m     27\u001b[0m cons_1\u001b[38;5;241m.\u001b[39mcancel()\n",
      "Cell \u001b[0;32mIn[16], line 7\u001b[0m, in \u001b[0;36mproducer\u001b[0;34m(label, delay, count)\u001b[0m\n\u001b[1;32m      5\u001b[0m \u001b[38;5;28;01masync\u001b[39;00m \u001b[38;5;28;01mdef\u001b[39;00m \u001b[38;5;21mproducer\u001b[39m(label, delay, count):\n\u001b[1;32m      6\u001b[0m     \u001b[38;5;28;01mfor\u001b[39;00m i \u001b[38;5;129;01min\u001b[39;00m \u001b[38;5;28mrange\u001b[39m(\u001b[38;5;241m1\u001b[39m, count \u001b[38;5;241m+\u001b[39m \u001b[38;5;241m1\u001b[39m):\n\u001b[0;32m----> 7\u001b[0m         \u001b[38;5;28;01mawait\u001b[39;00m asyncio\u001b[38;5;241m.\u001b[39msleep(delay)\n\u001b[1;32m      8\u001b[0m         \u001b[38;5;28;01mawait\u001b[39;00m queue\u001b[38;5;241m.\u001b[39mput(\u001b[38;5;124mf\u001b[39m\u001b[38;5;124m\"\u001b[39m\u001b[38;5;132;01m{\u001b[39;00mlabel\u001b[38;5;132;01m}\u001b[39;00m\u001b[38;5;124m–\u001b[39m\u001b[38;5;132;01m{\u001b[39;00mi\u001b[38;5;132;01m}\u001b[39;00m\u001b[38;5;124m\"\u001b[39m)\n\u001b[1;32m      9\u001b[0m         \u001b[38;5;28mprint\u001b[39m(\u001b[38;5;124mf\u001b[39m\u001b[38;5;124m\"\u001b[39m\u001b[38;5;124mProducer-\u001b[39m\u001b[38;5;132;01m{\u001b[39;00mlabel\u001b[38;5;132;01m}\u001b[39;00m\u001b[38;5;124m added \u001b[39m\u001b[38;5;132;01m{\u001b[39;00mi\u001b[38;5;132;01m}\u001b[39;00m\u001b[38;5;124m into queue\u001b[39m\u001b[38;5;124m\"\u001b[39m)\n",
      "File \u001b[0;32m/Library/Frameworks/Python.framework/Versions/3.12/lib/python3.12/asyncio/tasks.py:665\u001b[0m, in \u001b[0;36msleep\u001b[0;34m(delay, result)\u001b[0m\n\u001b[1;32m    661\u001b[0m h \u001b[38;5;241m=\u001b[39m loop\u001b[38;5;241m.\u001b[39mcall_later(delay,\n\u001b[1;32m    662\u001b[0m                     futures\u001b[38;5;241m.\u001b[39m_set_result_unless_cancelled,\n\u001b[1;32m    663\u001b[0m                     future, result)\n\u001b[1;32m    664\u001b[0m \u001b[38;5;28;01mtry\u001b[39;00m:\n\u001b[0;32m--> 665\u001b[0m     \u001b[38;5;28;01mreturn\u001b[39;00m \u001b[38;5;28;01mawait\u001b[39;00m future\n\u001b[1;32m    666\u001b[0m \u001b[38;5;28;01mfinally\u001b[39;00m:\n\u001b[1;32m    667\u001b[0m     h\u001b[38;5;241m.\u001b[39mcancel()\n",
      "\u001b[0;31mCancelledError\u001b[0m: "
     ]
    },
    {
     "name": "stdout",
     "output_type": "stream",
     "text": [
      "Consumer-2 processing item = A–3\n",
      "Consumer-1 processing item = B–2\n",
      "Consumer-2 processing item = A–4\n"
     ]
    }
   ],
   "source": [
    "import asyncio\n",
    "\n",
    "queue = asyncio.Queue()\n",
    "\n",
    "async def producer(label, delay, count):\n",
    "    for i in range(1, count + 1):\n",
    "        await asyncio.sleep(delay)\n",
    "        await queue.put(f\"{label}–{i}\")\n",
    "        print(f\"Producer-{label} added {i} into queue\")\n",
    "        \n",
    "async def consumer(number, delay):\n",
    "    while True:\n",
    "        item = await queue.get()\n",
    "        print(f\"Consumer-{number} processing item = {item}\")\n",
    "        await asyncio.sleep(delay)\n",
    "        queue.task_done()\n",
    "    \n",
    "async def main():\n",
    "    prod_a = asyncio.create_task(producer(\"A\", 1, 5))\n",
    "    prod_b = asyncio.create_task(producer(\"B\", 2, 6))\n",
    "    \n",
    "    cons_1 = asyncio.create_task(consumer(1, 3))\n",
    "    cons_2 = asyncio.create_task(consumer(2, 4))\n",
    "    \n",
    "    await asyncio.gather(prod_a, prod_b)\n",
    "    await queue.join()\n",
    "    cons_1.cancel()\n",
    "    cons_2.cancel()\n",
    "    \n",
    "    print(\"All tasks have complited and consumers have stopped\")\n",
    "    \n",
    "    \n",
    "await main()"
   ]
  }
 ],
 "metadata": {
  "kernelspec": {
   "display_name": "Python 3",
   "language": "python",
   "name": "python3"
  },
  "language_info": {
   "codemirror_mode": {
    "name": "ipython",
    "version": 3
   },
   "file_extension": ".py",
   "mimetype": "text/x-python",
   "name": "python",
   "nbconvert_exporter": "python",
   "pygments_lexer": "ipython3",
   "version": "3.12.4"
  }
 },
 "nbformat": 4,
 "nbformat_minor": 5
}
