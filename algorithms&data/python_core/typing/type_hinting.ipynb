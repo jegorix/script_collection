{
 "cells": [
  {
   "cell_type": "markdown",
   "id": "7e7f5274",
   "metadata": {},
   "source": [
    "## Type hinting"
   ]
  },
  {
   "cell_type": "code",
   "execution_count": 8,
   "id": "a42cad7f",
   "metadata": {},
   "outputs": [
    {
     "name": "stdout",
     "output_type": "stream",
     "text": [
      "FalseFalseFalse\n"
     ]
    }
   ],
   "source": [
    "def sum(x: int) -> int:\n",
    "    return x + x + x\n",
    "\n",
    "print(sum(\"False\"))"
   ]
  },
  {
   "cell_type": "markdown",
   "id": "117adde9",
   "metadata": {},
   "source": [
    "## Optional type: type | None"
   ]
  },
  {
   "cell_type": "code",
   "execution_count": null,
   "id": "19b79295",
   "metadata": {},
   "outputs": [],
   "source": [
    "def print_hello(name: str | None = None):\n",
    "    print(f\"hello, {name}\" if name is not None else \"hello anon!\")"
   ]
  },
  {
   "cell_type": "markdown",
   "id": "1cd46dbf",
   "metadata": {},
   "source": [
    "# Iterable, Sequence, Mapping"
   ]
  },
  {
   "cell_type": "code",
   "execution_count": 11,
   "id": "cfda4130",
   "metadata": {},
   "outputs": [
    {
     "name": "stdout",
     "output_type": "stream",
     "text": [
      "User(birthday=datetime.datetime(2000, 10, 10, 0, 0))\n"
     ]
    }
   ],
   "source": [
    "from datetime import datetime\n",
    "from dataclasses import dataclass\n",
    "from typing import Iterable, Sequence\n",
    "\n",
    "@dataclass\n",
    "class User:\n",
    "    birthday: datetime\n",
    "    \n",
    "users = [\n",
    "    User(birthday=datetime.fromisoformat (\"1988-01-01\" )),\n",
    "    User(birthday=datetime.fromisoformat (\"1985-07-29\" )),\n",
    "    User(birthday=datetime.fromisoformat (\"2000-10-10\"))\n",
    "]\n",
    "\n",
    "def get_younger_user(users: Sequence[User]) -> User:\n",
    "    if not users:\n",
    "        raise ValueError(\"empty users!\")\n",
    "    \n",
    "    sorted_users = sorted(users, key=lambda x: x.birthday, reverse=True)\n",
    "    return sorted_users[0]\n",
    "\n",
    "\n",
    "print(get_younger_user(users))\n",
    "    "
   ]
  },
  {
   "cell_type": "code",
   "execution_count": null,
   "id": "65e5f146",
   "metadata": {},
   "outputs": [
    {
     "name": "stdout",
     "output_type": "stream",
     "text": [
      "User(birthday=datetime.datetime(2000, 10, 10, 0, 0))\n",
      "None\n"
     ]
    }
   ],
   "source": [
    "from datetime import datetime\n",
    "from dataclasses import dataclass\n",
    "from typing import Mapping\n",
    "\n",
    "\n",
    "def get_data(some_users: Mapping[str, User]) -> None:\n",
    "    print(some_users[\"alex\"])\n",
    "    \n",
    "smth = {\n",
    "        \"alex\": User(birthday=datetime.fromisoformat (\"1988-01-01\" )),\n",
    "        \"petr\":  User(birthday=datetime.fromisoformat (\"2000-10-10\"))\n",
    "    }\n",
    "\n",
    "print(get_data(smth))"
   ]
  },
  {
   "cell_type": "code",
   "execution_count": 19,
   "id": "e159bfaf",
   "metadata": {},
   "outputs": [
    {
     "name": "stdout",
     "output_type": "stream",
     "text": [
      "User(birthday=datetime.datetime(1988, 1, 1, 0, 0))\n",
      "User(birthday=datetime.datetime(1985, 7, 29, 0, 0))\n",
      "User(birthday=datetime.datetime(2000, 10, 10, 0, 0))\n",
      "User(birthday=datetime.datetime(2000, 10, 10, 0, 0))\n"
     ]
    }
   ],
   "source": [
    "@dataclass\n",
    "class User:\n",
    "    birthday: datetime\n",
    "    \n",
    "class Users:\n",
    "    def __init__(self, users: Sequence[User]) -> None:\n",
    "        self._users = users\n",
    "        \n",
    "    def __getitem__(self, key: int) -> User:\n",
    "        return self._users[key]\n",
    "        \n",
    "        \n",
    "users = Users((\n",
    "    User(birthday=datetime.fromisoformat (\"1988-01-01\" )),\n",
    "    User(birthday=datetime.fromisoformat (\"1985-07-29\" )),\n",
    "    User(birthday=datetime.fromisoformat (\"2000-10-10\"))\n",
    "))\n",
    "\n",
    "for u in users:\n",
    "    print(u)\n",
    "    \n",
    "print(users[-1])\n"
   ]
  },
  {
   "cell_type": "markdown",
   "id": "07369e37",
   "metadata": {},
   "source": [
    "## About tuple typing"
   ]
  },
  {
   "cell_type": "code",
   "execution_count": 20,
   "id": "167b1452",
   "metadata": {},
   "outputs": [
    {
     "name": "stdout",
     "output_type": "stream",
     "text": [
      "1\n",
      "2\n",
      "3\n",
      "4\n",
      "5\n"
     ]
    }
   ],
   "source": [
    "tuple_ints = tuple[int, ...]\n",
    "\n",
    "def get_int(data: tuple_ints) -> None:\n",
    "    for i in data:\n",
    "        print(i)\n",
    "        \n",
    "data_1 = (1, 2, 3, 4, 5)\n",
    "get_int(data=data_1)"
   ]
  },
  {
   "cell_type": "markdown",
   "id": "6ffdc7ae",
   "metadata": {},
   "source": [
    "## TypeVar"
   ]
  },
  {
   "cell_type": "code",
   "execution_count": 21,
   "id": "f3faccdf",
   "metadata": {},
   "outputs": [
    {
     "name": "stdout",
     "output_type": "stream",
     "text": [
      "one\n",
      "100\n"
     ]
    }
   ],
   "source": [
    "from typing import TypeVar, Iterable\n",
    "\n",
    "T = TypeVar(\"T\")\n",
    "\n",
    "def first_elem(iterable: Iterable[T]) -> T | None:\n",
    "    for element in iterable:\n",
    "        return element\n",
    "    \n",
    "print(first_elem([\"one\", \"two\" ]))\n",
    "print(first_elem((100, 200)))\n",
    "\n"
   ]
  },
  {
   "cell_type": "markdown",
   "id": "16b322c6",
   "metadata": {},
   "source": [
    "## Callable"
   ]
  },
  {
   "cell_type": "code",
   "execution_count": null,
   "id": "1b70eda1",
   "metadata": {},
   "outputs": [],
   "source": [
    "from typing import Callable\n",
    "\n",
    "def mysum(a: int, b: int) -> int:\n",
    "    return a + b\n",
    "\n",
    "def process_operation(operation: Callable[[int, int], int], a: int, b: int) -> int:\n",
    "    return operation(a, b)\n",
    "\n",
    "print(process_operation(mysum, 5, 8))"
   ]
  }
 ],
 "metadata": {
  "kernelspec": {
   "display_name": "Python 3",
   "language": "python",
   "name": "python3"
  },
  "language_info": {
   "codemirror_mode": {
    "name": "ipython",
    "version": 3
   },
   "file_extension": ".py",
   "mimetype": "text/x-python",
   "name": "python",
   "nbconvert_exporter": "python",
   "pygments_lexer": "ipython3",
   "version": "3.12.4"
  }
 },
 "nbformat": 4,
 "nbformat_minor": 5
}
