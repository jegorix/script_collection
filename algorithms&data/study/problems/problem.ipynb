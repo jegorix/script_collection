{
 "cells": [
  {
   "cell_type": "code",
   "execution_count": null,
   "id": "f85e2236",
   "metadata": {},
   "outputs": [],
   "source": [
    "from typing import List\n",
    "def is_palidrome(s):\n",
    "    return s == s[::-1]\n"
   ]
  },
  {
   "cell_type": "code",
   "execution_count": 8,
   "id": "b439f04d",
   "metadata": {},
   "outputs": [
    {
     "name": "stdout",
     "output_type": "stream",
     "text": [
      "True\n"
     ]
    }
   ],
   "source": [
    "def check_squares(number: int) -> bool:\n",
    "    for a in range(1, int(number**0.5) + 1):\n",
    "        b = number - a**2\n",
    "        if b >= 0 and (b**0.5).is_integer():\n",
    "            return True\n",
    "    return False\n",
    "\n",
    "print(check_squares(5))  # True (1^2 + 2^2)"
   ]
  },
  {
   "cell_type": "code",
   "execution_count": 11,
   "id": "fd54b460",
   "metadata": {},
   "outputs": [
    {
     "name": "stdout",
     "output_type": "stream",
     "text": [
      "9\n"
     ]
    }
   ],
   "source": [
    "arr = [1, 2, 2, 3, 4, 4, 5] \n",
    "\n",
    "def remove_duplicates(arr):\n",
    "    result = 0\n",
    "    for a in arr:\n",
    "        if a not in arr[arr.index(a)+1:]:\n",
    "            result += a\n",
    "    return result\n",
    "\n",
    "\n",
    "print(remove_duplicates(arr)) \n",
    "    \n"
   ]
  },
  {
   "cell_type": "code",
   "execution_count": null,
   "id": "19e5d911",
   "metadata": {},
   "outputs": [],
   "source": [
    "def binary_search(arr, target):\n",
    "    left, right = 0, len(arr) - 1\n",
    "    while left <= right:\n",
    "        mid = (left + right) // 2\n",
    "        if arr[mid] == target:\n",
    "            return mid\n",
    "        elif arr[mid] < target:\n",
    "            left = mid + 1\n",
    "        else:\n",
    "            right = mid - 1\n",
    "    return -1"
   ]
  },
  {
   "cell_type": "code",
   "execution_count": null,
   "id": "d9f147f6",
   "metadata": {},
   "outputs": [],
   "source": [
    "class Solution:\n",
    "    def twoSum(self, nums: List[int], target: int) -> List[int]:\n",
    "        for v in nums:\n",
    "            goal = target - v\n",
    "            first = nums.index(v)\n",
    "            if goal in nums[first + 1:]:\n",
    "                return [first, nums.index(goal, first + 1)]\n",
    "        return []"
   ]
  }
 ],
 "metadata": {
  "kernelspec": {
   "display_name": "Python 3",
   "language": "python",
   "name": "python3"
  },
  "language_info": {
   "codemirror_mode": {
    "name": "ipython",
    "version": 3
   },
   "file_extension": ".py",
   "mimetype": "text/x-python",
   "name": "python",
   "nbconvert_exporter": "python",
   "pygments_lexer": "ipython3",
   "version": "3.12.4"
  }
 },
 "nbformat": 4,
 "nbformat_minor": 5
}
